{
  "cells": [
    {
      "cell_type": "code",
      "source": [
        "from google.colab import drive\n",
        "drive.mount('/content/drive')"
      ],
      "metadata": {
        "colab": {
          "base_uri": "https://localhost:8080/"
        },
        "id": "_k8NzmFijnfp",
        "outputId": "555c9e89-1013-4870-ab9a-678bc260c260"
      },
      "execution_count": 18,
      "outputs": [
        {
          "output_type": "stream",
          "name": "stdout",
          "text": [
            "Drive already mounted at /content/drive; to attempt to forcibly remount, call drive.mount(\"/content/drive\", force_remount=True).\n"
          ]
        }
      ]
    },
    {
      "cell_type": "code",
      "execution_count": 16,
      "metadata": {
        "id": "xY2W19Yejbue"
      },
      "outputs": [],
      "source": [
        "import pandas as pd\n",
        "import seaborn as sns\n",
        "import numpy as np\n",
        "import matplotlib.pyplot as plt"
      ]
    },
    {
      "cell_type": "code",
      "execution_count": 19,
      "metadata": {
        "id": "VjDxcdn0jbui"
      },
      "outputs": [],
      "source": [
        "df = pd.read_csv(\"/content/drive/MyDrive/CSE587/wpbc_data_3.csv\")"
      ]
    },
    {
      "cell_type": "code",
      "execution_count": 20,
      "metadata": {
        "id": "v2wH27_5jbuj",
        "colab": {
          "base_uri": "https://localhost:8080/",
          "height": 317
        },
        "outputId": "ec7279ab-f768-4cf3-f6b1-6679c5dd3173"
      },
      "outputs": [
        {
          "output_type": "execute_result",
          "data": {
            "text/plain": [
              "       id diagnosis  time_for_recurrence  radius_mean  texture_mean  \\\n",
              "0  119513         N                   31        18.02         27.60   \n",
              "1    8423         N                   61        17.99         10.38   \n",
              "2  842517         N                  116        21.37         17.44   \n",
              "3  843483         N                  123        11.42         20.38   \n",
              "4  843584         R                   27        20.29         14.34   \n",
              "\n",
              "   perimeter_mean  area_mean  smoothness_mean  compactness_mean  \\\n",
              "0          117.50     1013.0          0.09489            0.1036   \n",
              "1          122.80     1001.0          0.11840            0.2776   \n",
              "2          137.50     1373.0          0.08836            0.1189   \n",
              "3           77.58      386.1          0.14250            0.2839   \n",
              "4          135.10     1297.0          0.10030            0.1328   \n",
              "\n",
              "   concavity_mean  ...  perimeter_worst  area_worst  smoothness_worst  \\\n",
              "0          0.1086  ...           139.70      1436.0            0.1195   \n",
              "1          0.3001  ...           184.60      2019.0            0.1622   \n",
              "2          0.1255  ...           159.10      1949.0            0.1188   \n",
              "3          0.2414  ...            98.87       567.7            0.2098   \n",
              "4          0.1980  ...           152.20      1575.0            0.1374   \n",
              "\n",
              "   compactness_worst  concavity_worst  concave points_worst  symmetry_worst  \\\n",
              "0             0.1926           0.3140                0.1170          0.2677   \n",
              "1             0.6656           0.7119                0.2654          0.4601   \n",
              "2             0.3449           0.3414                0.2032          0.4334   \n",
              "3             0.8663           0.6869                0.2575          0.6638   \n",
              "4             0.2050           0.4000                0.1625          0.2364   \n",
              "\n",
              "   fractal_dimension_worst  tumor_size  lymph_node_status  \n",
              "0                  0.08113         5.0                  5  \n",
              "1                  0.11890         3.0                  2  \n",
              "2                  0.09067         2.5                  0  \n",
              "3                  0.17300         2.0                  0  \n",
              "4                  0.07678         3.5                  0  \n",
              "\n",
              "[5 rows x 35 columns]"
            ],
            "text/html": [
              "\n",
              "  <div id=\"df-854a79f3-0d36-4f9e-8e3e-3d0ba7f051d9\">\n",
              "    <div class=\"colab-df-container\">\n",
              "      <div>\n",
              "<style scoped>\n",
              "    .dataframe tbody tr th:only-of-type {\n",
              "        vertical-align: middle;\n",
              "    }\n",
              "\n",
              "    .dataframe tbody tr th {\n",
              "        vertical-align: top;\n",
              "    }\n",
              "\n",
              "    .dataframe thead th {\n",
              "        text-align: right;\n",
              "    }\n",
              "</style>\n",
              "<table border=\"1\" class=\"dataframe\">\n",
              "  <thead>\n",
              "    <tr style=\"text-align: right;\">\n",
              "      <th></th>\n",
              "      <th>id</th>\n",
              "      <th>diagnosis</th>\n",
              "      <th>time_for_recurrence</th>\n",
              "      <th>radius_mean</th>\n",
              "      <th>texture_mean</th>\n",
              "      <th>perimeter_mean</th>\n",
              "      <th>area_mean</th>\n",
              "      <th>smoothness_mean</th>\n",
              "      <th>compactness_mean</th>\n",
              "      <th>concavity_mean</th>\n",
              "      <th>...</th>\n",
              "      <th>perimeter_worst</th>\n",
              "      <th>area_worst</th>\n",
              "      <th>smoothness_worst</th>\n",
              "      <th>compactness_worst</th>\n",
              "      <th>concavity_worst</th>\n",
              "      <th>concave points_worst</th>\n",
              "      <th>symmetry_worst</th>\n",
              "      <th>fractal_dimension_worst</th>\n",
              "      <th>tumor_size</th>\n",
              "      <th>lymph_node_status</th>\n",
              "    </tr>\n",
              "  </thead>\n",
              "  <tbody>\n",
              "    <tr>\n",
              "      <th>0</th>\n",
              "      <td>119513</td>\n",
              "      <td>N</td>\n",
              "      <td>31</td>\n",
              "      <td>18.02</td>\n",
              "      <td>27.60</td>\n",
              "      <td>117.50</td>\n",
              "      <td>1013.0</td>\n",
              "      <td>0.09489</td>\n",
              "      <td>0.1036</td>\n",
              "      <td>0.1086</td>\n",
              "      <td>...</td>\n",
              "      <td>139.70</td>\n",
              "      <td>1436.0</td>\n",
              "      <td>0.1195</td>\n",
              "      <td>0.1926</td>\n",
              "      <td>0.3140</td>\n",
              "      <td>0.1170</td>\n",
              "      <td>0.2677</td>\n",
              "      <td>0.08113</td>\n",
              "      <td>5.0</td>\n",
              "      <td>5</td>\n",
              "    </tr>\n",
              "    <tr>\n",
              "      <th>1</th>\n",
              "      <td>8423</td>\n",
              "      <td>N</td>\n",
              "      <td>61</td>\n",
              "      <td>17.99</td>\n",
              "      <td>10.38</td>\n",
              "      <td>122.80</td>\n",
              "      <td>1001.0</td>\n",
              "      <td>0.11840</td>\n",
              "      <td>0.2776</td>\n",
              "      <td>0.3001</td>\n",
              "      <td>...</td>\n",
              "      <td>184.60</td>\n",
              "      <td>2019.0</td>\n",
              "      <td>0.1622</td>\n",
              "      <td>0.6656</td>\n",
              "      <td>0.7119</td>\n",
              "      <td>0.2654</td>\n",
              "      <td>0.4601</td>\n",
              "      <td>0.11890</td>\n",
              "      <td>3.0</td>\n",
              "      <td>2</td>\n",
              "    </tr>\n",
              "    <tr>\n",
              "      <th>2</th>\n",
              "      <td>842517</td>\n",
              "      <td>N</td>\n",
              "      <td>116</td>\n",
              "      <td>21.37</td>\n",
              "      <td>17.44</td>\n",
              "      <td>137.50</td>\n",
              "      <td>1373.0</td>\n",
              "      <td>0.08836</td>\n",
              "      <td>0.1189</td>\n",
              "      <td>0.1255</td>\n",
              "      <td>...</td>\n",
              "      <td>159.10</td>\n",
              "      <td>1949.0</td>\n",
              "      <td>0.1188</td>\n",
              "      <td>0.3449</td>\n",
              "      <td>0.3414</td>\n",
              "      <td>0.2032</td>\n",
              "      <td>0.4334</td>\n",
              "      <td>0.09067</td>\n",
              "      <td>2.5</td>\n",
              "      <td>0</td>\n",
              "    </tr>\n",
              "    <tr>\n",
              "      <th>3</th>\n",
              "      <td>843483</td>\n",
              "      <td>N</td>\n",
              "      <td>123</td>\n",
              "      <td>11.42</td>\n",
              "      <td>20.38</td>\n",
              "      <td>77.58</td>\n",
              "      <td>386.1</td>\n",
              "      <td>0.14250</td>\n",
              "      <td>0.2839</td>\n",
              "      <td>0.2414</td>\n",
              "      <td>...</td>\n",
              "      <td>98.87</td>\n",
              "      <td>567.7</td>\n",
              "      <td>0.2098</td>\n",
              "      <td>0.8663</td>\n",
              "      <td>0.6869</td>\n",
              "      <td>0.2575</td>\n",
              "      <td>0.6638</td>\n",
              "      <td>0.17300</td>\n",
              "      <td>2.0</td>\n",
              "      <td>0</td>\n",
              "    </tr>\n",
              "    <tr>\n",
              "      <th>4</th>\n",
              "      <td>843584</td>\n",
              "      <td>R</td>\n",
              "      <td>27</td>\n",
              "      <td>20.29</td>\n",
              "      <td>14.34</td>\n",
              "      <td>135.10</td>\n",
              "      <td>1297.0</td>\n",
              "      <td>0.10030</td>\n",
              "      <td>0.1328</td>\n",
              "      <td>0.1980</td>\n",
              "      <td>...</td>\n",
              "      <td>152.20</td>\n",
              "      <td>1575.0</td>\n",
              "      <td>0.1374</td>\n",
              "      <td>0.2050</td>\n",
              "      <td>0.4000</td>\n",
              "      <td>0.1625</td>\n",
              "      <td>0.2364</td>\n",
              "      <td>0.07678</td>\n",
              "      <td>3.5</td>\n",
              "      <td>0</td>\n",
              "    </tr>\n",
              "  </tbody>\n",
              "</table>\n",
              "<p>5 rows × 35 columns</p>\n",
              "</div>\n",
              "      <button class=\"colab-df-convert\" onclick=\"convertToInteractive('df-854a79f3-0d36-4f9e-8e3e-3d0ba7f051d9')\"\n",
              "              title=\"Convert this dataframe to an interactive table.\"\n",
              "              style=\"display:none;\">\n",
              "        \n",
              "  <svg xmlns=\"http://www.w3.org/2000/svg\" height=\"24px\"viewBox=\"0 0 24 24\"\n",
              "       width=\"24px\">\n",
              "    <path d=\"M0 0h24v24H0V0z\" fill=\"none\"/>\n",
              "    <path d=\"M18.56 5.44l.94 2.06.94-2.06 2.06-.94-2.06-.94-.94-2.06-.94 2.06-2.06.94zm-11 1L8.5 8.5l.94-2.06 2.06-.94-2.06-.94L8.5 2.5l-.94 2.06-2.06.94zm10 10l.94 2.06.94-2.06 2.06-.94-2.06-.94-.94-2.06-.94 2.06-2.06.94z\"/><path d=\"M17.41 7.96l-1.37-1.37c-.4-.4-.92-.59-1.43-.59-.52 0-1.04.2-1.43.59L10.3 9.45l-7.72 7.72c-.78.78-.78 2.05 0 2.83L4 21.41c.39.39.9.59 1.41.59.51 0 1.02-.2 1.41-.59l7.78-7.78 2.81-2.81c.8-.78.8-2.07 0-2.86zM5.41 20L4 18.59l7.72-7.72 1.47 1.35L5.41 20z\"/>\n",
              "  </svg>\n",
              "      </button>\n",
              "      \n",
              "  <style>\n",
              "    .colab-df-container {\n",
              "      display:flex;\n",
              "      flex-wrap:wrap;\n",
              "      gap: 12px;\n",
              "    }\n",
              "\n",
              "    .colab-df-convert {\n",
              "      background-color: #E8F0FE;\n",
              "      border: none;\n",
              "      border-radius: 50%;\n",
              "      cursor: pointer;\n",
              "      display: none;\n",
              "      fill: #1967D2;\n",
              "      height: 32px;\n",
              "      padding: 0 0 0 0;\n",
              "      width: 32px;\n",
              "    }\n",
              "\n",
              "    .colab-df-convert:hover {\n",
              "      background-color: #E2EBFA;\n",
              "      box-shadow: 0px 1px 2px rgba(60, 64, 67, 0.3), 0px 1px 3px 1px rgba(60, 64, 67, 0.15);\n",
              "      fill: #174EA6;\n",
              "    }\n",
              "\n",
              "    [theme=dark] .colab-df-convert {\n",
              "      background-color: #3B4455;\n",
              "      fill: #D2E3FC;\n",
              "    }\n",
              "\n",
              "    [theme=dark] .colab-df-convert:hover {\n",
              "      background-color: #434B5C;\n",
              "      box-shadow: 0px 1px 3px 1px rgba(0, 0, 0, 0.15);\n",
              "      filter: drop-shadow(0px 1px 2px rgba(0, 0, 0, 0.3));\n",
              "      fill: #FFFFFF;\n",
              "    }\n",
              "  </style>\n",
              "\n",
              "      <script>\n",
              "        const buttonEl =\n",
              "          document.querySelector('#df-854a79f3-0d36-4f9e-8e3e-3d0ba7f051d9 button.colab-df-convert');\n",
              "        buttonEl.style.display =\n",
              "          google.colab.kernel.accessAllowed ? 'block' : 'none';\n",
              "\n",
              "        async function convertToInteractive(key) {\n",
              "          const element = document.querySelector('#df-854a79f3-0d36-4f9e-8e3e-3d0ba7f051d9');\n",
              "          const dataTable =\n",
              "            await google.colab.kernel.invokeFunction('convertToInteractive',\n",
              "                                                     [key], {});\n",
              "          if (!dataTable) return;\n",
              "\n",
              "          const docLinkHtml = 'Like what you see? Visit the ' +\n",
              "            '<a target=\"_blank\" href=https://colab.research.google.com/notebooks/data_table.ipynb>data table notebook</a>'\n",
              "            + ' to learn more about interactive tables.';\n",
              "          element.innerHTML = '';\n",
              "          dataTable['output_type'] = 'display_data';\n",
              "          await google.colab.output.renderOutput(dataTable, element);\n",
              "          const docLink = document.createElement('div');\n",
              "          docLink.innerHTML = docLinkHtml;\n",
              "          element.appendChild(docLink);\n",
              "        }\n",
              "      </script>\n",
              "    </div>\n",
              "  </div>\n",
              "  "
            ]
          },
          "metadata": {},
          "execution_count": 20
        }
      ],
      "source": [
        "df.head()"
      ]
    },
    {
      "cell_type": "code",
      "source": [
        "df.shape"
      ],
      "metadata": {
        "colab": {
          "base_uri": "https://localhost:8080/"
        },
        "id": "Xuaj_TW2Zo6E",
        "outputId": "45915bcb-b9cc-4d38-f215-896c32a1a206"
      },
      "execution_count": 22,
      "outputs": [
        {
          "output_type": "execute_result",
          "data": {
            "text/plain": [
              "(198, 35)"
            ]
          },
          "metadata": {},
          "execution_count": 22
        }
      ]
    },
    {
      "cell_type": "code",
      "source": [
        "df.info()"
      ],
      "metadata": {
        "id": "SBGQIlksk3F2",
        "colab": {
          "base_uri": "https://localhost:8080/"
        },
        "outputId": "c41d822e-8f44-4756-87a6-24366e64e06d"
      },
      "execution_count": 46,
      "outputs": [
        {
          "output_type": "stream",
          "name": "stdout",
          "text": [
            "<class 'pandas.core.frame.DataFrame'>\n",
            "RangeIndex: 198 entries, 0 to 197\n",
            "Data columns (total 35 columns):\n",
            " #   Column                   Non-Null Count  Dtype  \n",
            "---  ------                   --------------  -----  \n",
            " 0   id                       198 non-null    int64  \n",
            " 1   diagnosis                198 non-null    object \n",
            " 2   time_for_recurrence      198 non-null    int64  \n",
            " 3   radius_mean              198 non-null    float64\n",
            " 4   texture_mean             198 non-null    float64\n",
            " 5   perimeter_mean           198 non-null    float64\n",
            " 6   area_mean                198 non-null    float64\n",
            " 7   smoothness_mean          198 non-null    float64\n",
            " 8   compactness_mean         198 non-null    float64\n",
            " 9   concavity_mean           198 non-null    float64\n",
            " 10  concave points_mean      198 non-null    float64\n",
            " 11  symmetry_mean            198 non-null    float64\n",
            " 12  fractal_dimension_mean   198 non-null    float64\n",
            " 13  radius_se                198 non-null    float64\n",
            " 14  texture_se               198 non-null    float64\n",
            " 15  perimeter_se             198 non-null    float64\n",
            " 16  area_se                  198 non-null    float64\n",
            " 17  smoothness_se            198 non-null    float64\n",
            " 18  compactness_se           198 non-null    float64\n",
            " 19  concavity_se             198 non-null    float64\n",
            " 20  concave points_se        198 non-null    float64\n",
            " 21  symmetry_se              198 non-null    float64\n",
            " 22  fractal_dimension_se     198 non-null    float64\n",
            " 23  radius_worst             198 non-null    float64\n",
            " 24  texture_worst            198 non-null    float64\n",
            " 25  perimeter_worst          198 non-null    float64\n",
            " 26  area_worst               198 non-null    float64\n",
            " 27  smoothness_worst         198 non-null    float64\n",
            " 28  compactness_worst        198 non-null    float64\n",
            " 29  concavity_worst          198 non-null    float64\n",
            " 30  concave points_worst     198 non-null    float64\n",
            " 31  symmetry_worst           198 non-null    float64\n",
            " 32  fractal_dimension_worst  198 non-null    float64\n",
            " 33  tumor_size               198 non-null    float64\n",
            " 34  lymph_node_status        198 non-null    object \n",
            "dtypes: float64(31), int64(2), object(2)\n",
            "memory usage: 54.3+ KB\n"
          ]
        }
      ]
    },
    {
      "cell_type": "code",
      "source": [
        "df['lymph_node_status'].replace('?',0, inplace = True)"
      ],
      "metadata": {
        "id": "WM3Frrvac-k7"
      },
      "execution_count": 47,
      "outputs": []
    },
    {
      "cell_type": "code",
      "execution_count": 48,
      "metadata": {
        "id": "c-cVJZzfjbuk",
        "colab": {
          "base_uri": "https://localhost:8080/"
        },
        "outputId": "ea31f343-c2f3-4891-fe71-9f099870daf3"
      },
      "outputs": [
        {
          "output_type": "execute_result",
          "data": {
            "text/plain": [
              "id                         0\n",
              "diagnosis                  0\n",
              "time_for_recurrence        0\n",
              "radius_mean                0\n",
              "texture_mean               0\n",
              "perimeter_mean             0\n",
              "area_mean                  0\n",
              "smoothness_mean            0\n",
              "compactness_mean           0\n",
              "concavity_mean             0\n",
              "concave points_mean        0\n",
              "symmetry_mean              0\n",
              "fractal_dimension_mean     0\n",
              "radius_se                  0\n",
              "texture_se                 0\n",
              "perimeter_se               0\n",
              "area_se                    0\n",
              "smoothness_se              0\n",
              "compactness_se             0\n",
              "concavity_se               0\n",
              "concave points_se          0\n",
              "symmetry_se                0\n",
              "fractal_dimension_se       0\n",
              "radius_worst               0\n",
              "texture_worst              0\n",
              "perimeter_worst            0\n",
              "area_worst                 0\n",
              "smoothness_worst           0\n",
              "compactness_worst          0\n",
              "concavity_worst            0\n",
              "concave points_worst       0\n",
              "symmetry_worst             0\n",
              "fractal_dimension_worst    0\n",
              "tumor_size                 0\n",
              "lymph_node_status          0\n",
              "dtype: int64"
            ]
          },
          "metadata": {},
          "execution_count": 48
        }
      ],
      "source": [
        "df.isna().sum()"
      ]
    },
    {
      "cell_type": "code",
      "execution_count": 49,
      "metadata": {
        "colab": {
          "base_uri": "https://localhost:8080/",
          "height": 298
        },
        "id": "8Mny06ydjbuk",
        "outputId": "5fe0c510-fba4-4d37-a278-d382c5992dc5"
      },
      "outputs": [
        {
          "output_type": "execute_result",
          "data": {
            "text/plain": [
              "<matplotlib.axes._subplots.AxesSubplot at 0x7f5ae9e121d0>"
            ]
          },
          "metadata": {},
          "execution_count": 49
        },
        {
          "output_type": "display_data",
          "data": {
            "text/plain": [
              "<Figure size 432x288 with 1 Axes>"
            ],
            "image/png": "[encoded data removed]"
          },
          "metadata": {
            "needs_background": "light"
          }
        }
      ],
      "source": [
        "sns.lineplot(x=df[\"radius_mean\"],y=df[\"perimeter_mean\"], hue=df[\"diagnosis\"])"
      ]
    },
    {
      "cell_type": "code",
      "execution_count": 50,
      "metadata": {
        "colab": {
          "base_uri": "https://localhost:8080/",
          "height": 351
        },
        "id": "Vt_h-CE1jbuk",
        "outputId": "1263bbeb-af18-49c2-be69-bca8bbe4d18f"
      },
      "outputs": [
        {
          "output_type": "stream",
          "name": "stderr",
          "text": [
            "/usr/local/lib/python3.7/dist-packages/seaborn/_decorators.py:43: FutureWarning: Pass the following variable as a keyword arg: x. From version 0.12, the only valid positional argument will be `data`, and passing other arguments without an explicit keyword will result in an error or misinterpretation.\n",
            "  FutureWarning\n"
          ]
        },
        {
          "output_type": "execute_result",
          "data": {
            "text/plain": [
              "<matplotlib.axes._subplots.AxesSubplot at 0x7f5ae9db2810>"
            ]
          },
          "metadata": {},
          "execution_count": 50
        },
        {
          "output_type": "display_data",
          "data": {
            "text/plain": [
              "<Figure size 432x288 with 1 Axes>"
            ],
            "image/png": "[encoded data removed]"
          },
          "metadata": {
            "needs_background": "light"
          }
        }
      ],
      "source": [
        "sns.countplot(df['diagnosis'])"
      ]
    },
    {
      "cell_type": "code",
      "execution_count": 51,
      "metadata": {
        "id": "8N1HZWzpjbul"
      },
      "outputs": [],
      "source": [
        "# sns.barplot(df['diagnosis'],df['area_mean'])"
      ]
    },
    {
      "cell_type": "code",
      "execution_count": 52,
      "metadata": {
        "colab": {
          "base_uri": "https://localhost:8080/",
          "height": 296
        },
        "id": "kxpe_3OGjbul",
        "outputId": "16b10085-890e-406d-833d-d3951e51e4aa"
      },
      "outputs": [
        {
          "output_type": "execute_result",
          "data": {
            "text/plain": [
              "<matplotlib.axes._subplots.AxesSubplot at 0x7f5ae9d2bb90>"
            ]
          },
          "metadata": {},
          "execution_count": 52
        },
        {
          "output_type": "display_data",
          "data": {
            "text/plain": [
              "<Figure size 432x288 with 1 Axes>"
            ],
            "image/png": "[encoded data removed]"
          },
          "metadata": {
            "needs_background": "light"
          }
        }
      ],
      "source": [
        "sns.scatterplot(x = df['area_mean'],y= df['smoothness_mean'],hue=df['diagnosis'])"
      ]
    },
    {
      "cell_type": "code",
      "execution_count": 53,
      "metadata": {
        "colab": {
          "base_uri": "https://localhost:8080/",
          "height": 296
        },
        "id": "zLieNRBbjbum",
        "outputId": "1433353e-7421-41e7-ed49-f79cec358bb2"
      },
      "outputs": [
        {
          "output_type": "execute_result",
          "data": {
            "text/plain": [
              "<matplotlib.axes._subplots.AxesSubplot at 0x7f5ae9c38990>"
            ]
          },
          "metadata": {},
          "execution_count": 53
        },
        {
          "output_type": "display_data",
          "data": {
            "text/plain": [
              "<Figure size 432x288 with 1 Axes>"
            ],
            "image/png": "[encoded data removed]"
          },
          "metadata": {
            "needs_background": "light"
          }
        }
      ],
      "source": [
        "sns.regplot(x = df['area_mean'],y= df['smoothness_mean'])"
      ]
    },
    {
      "cell_type": "code",
      "execution_count": 54,
      "metadata": {
        "colab": {
          "base_uri": "https://localhost:8080/",
          "height": 386
        },
        "id": "rfKAhQrujbum",
        "outputId": "c5f6e9e5-37b6-4121-cced-adc85274032b"
      },
      "outputs": [
        {
          "output_type": "execute_result",
          "data": {
            "text/plain": [
              "<seaborn.axisgrid.FacetGrid at 0x7f5ae9c2c350>"
            ]
          },
          "metadata": {},
          "execution_count": 54
        },
        {
          "output_type": "display_data",
          "data": {
            "text/plain": [
              "<Figure size 415.5x360 with 1 Axes>"
            ],
            "image/png": "[encoded data removed]"
          },
          "metadata": {
            "needs_background": "light"
          }
        }
      ],
      "source": [
        "sns.lmplot(x='area_mean',y='smoothness_mean',hue='diagnosis',data=df)"
      ]
    },
    {
      "cell_type": "code",
      "execution_count": 55,
      "metadata": {
        "colab": {
          "base_uri": "https://localhost:8080/",
          "height": 296
        },
        "id": "qiX5V157jbun",
        "outputId": "b983fc75-4b40-427c-d2de-6d3820bbaa08"
      },
      "outputs": [
        {
          "output_type": "execute_result",
          "data": {
            "text/plain": [
              "<matplotlib.axes._subplots.AxesSubplot at 0x7f5ae9b59750>"
            ]
          },
          "metadata": {},
          "execution_count": 55
        },
        {
          "output_type": "display_data",
          "data": {
            "text/plain": [
              "<Figure size 432x288 with 1 Axes>"
            ],
            "image/png": "[encoded data removed]"
          },
          "metadata": {
            "needs_background": "light"
          }
        }
      ],
      "source": [
        "sns.swarmplot(x=df['diagnosis'],y=df['smoothness_mean'])"
      ]
    },
    {
      "cell_type": "code",
      "execution_count": 56,
      "metadata": {
        "colab": {
          "base_uri": "https://localhost:8080/",
          "height": 352
        },
        "id": "6RboQdQnjbun",
        "outputId": "db2c505b-a4c2-4f9f-e2ae-9d9298288c03"
      },
      "outputs": [
        {
          "output_type": "stream",
          "name": "stderr",
          "text": [
            "/usr/local/lib/python3.7/dist-packages/seaborn/distributions.py:2619: FutureWarning: `distplot` is a deprecated function and will be removed in a future version. Please adapt your code to use either `displot` (a figure-level function with similar flexibility) or `histplot` (an axes-level function for histograms).\n",
            "  warnings.warn(msg, FutureWarning)\n"
          ]
        },
        {
          "output_type": "execute_result",
          "data": {
            "text/plain": [
              "<matplotlib.axes._subplots.AxesSubplot at 0x7f5ae9b289d0>"
            ]
          },
          "metadata": {},
          "execution_count": 56
        },
        {
          "output_type": "display_data",
          "data": {
            "text/plain": [
              "<Figure size 432x288 with 1 Axes>"
            ],
            "image/png": "[encoded data removed]"
          },
          "metadata": {
            "needs_background": "light"
          }
        }
      ],
      "source": [
        "sns.distplot(df['perimeter_mean'])"
      ]
    },
    {
      "cell_type": "code",
      "execution_count": 57,
      "metadata": {
        "colab": {
          "base_uri": "https://localhost:8080/",
          "height": 352
        },
        "id": "O1jds0Bbjbuo",
        "outputId": "b42a2c37-0dda-48fe-ae1e-4910fcddd182"
      },
      "outputs": [
        {
          "output_type": "stream",
          "name": "stderr",
          "text": [
            "/usr/local/lib/python3.7/dist-packages/seaborn/distributions.py:2619: FutureWarning: `distplot` is a deprecated function and will be removed in a future version. Please adapt your code to use either `displot` (a figure-level function with similar flexibility) or `histplot` (an axes-level function for histograms).\n",
            "  warnings.warn(msg, FutureWarning)\n"
          ]
        },
        {
          "output_type": "execute_result",
          "data": {
            "text/plain": [
              "<matplotlib.axes._subplots.AxesSubplot at 0x7f5ae9a46bd0>"
            ]
          },
          "metadata": {},
          "execution_count": 57
        },
        {
          "output_type": "display_data",
          "data": {
            "text/plain": [
              "<Figure size 432x288 with 1 Axes>"
            ],
            "image/png": "[encoded data removed]"
          },
          "metadata": {
            "needs_background": "light"
          }
        }
      ],
      "source": [
        "sns.distplot(df['smoothness_mean'])"
      ]
    },
    {
      "cell_type": "code",
      "execution_count": 58,
      "metadata": {
        "colab": {
          "base_uri": "https://localhost:8080/",
          "height": 513
        },
        "id": "XNmXqgjmjbuo",
        "outputId": "7cea303b-2da1-46ae-812a-31dd9b751435"
      },
      "outputs": [
        {
          "output_type": "stream",
          "name": "stderr",
          "text": [
            "/usr/local/lib/python3.7/dist-packages/seaborn/_decorators.py:43: FutureWarning: Pass the following variables as keyword args: x, y. From version 0.12, the only valid positional argument will be `data`, and passing other arguments without an explicit keyword will result in an error or misinterpretation.\n",
            "  FutureWarning\n"
          ]
        },
        {
          "output_type": "execute_result",
          "data": {
            "text/plain": [
              "<seaborn.axisgrid.JointGrid at 0x7f5ae99fd550>"
            ]
          },
          "metadata": {},
          "execution_count": 58
        },
        {
          "output_type": "display_data",
          "data": {
            "text/plain": [
              "<Figure size 432x432 with 3 Axes>"
            ],
            "image/png": "[encoded data removed]"
          },
          "metadata": {
            "needs_background": "light"
          }
        }
      ],
      "source": [
        "sns.jointplot(df['perimeter_mean'],df['smoothness_mean'],kind='kde')"
      ]
    },
    {
      "cell_type": "code",
      "execution_count": 59,
      "metadata": {
        "id": "s38nNqERjbuo"
      },
      "outputs": [],
      "source": [
        "from sklearn.preprocessing import StandardScaler\n",
        "from sklearn.linear_model import LogisticRegression\n",
        "from sklearn.ensemble import RandomForestClassifier\n",
        "from sklearn.tree import DecisionTreeClassifier\n",
        "from sklearn.naive_bayes import GaussianNB\n",
        "from sklearn.neighbors import KNeighborsClassifier\n",
        "from sklearn.metrics import accuracy_score\n",
        "from sklearn.model_selection import train_test_split\n"
      ]
    },
    {
      "cell_type": "code",
      "execution_count": 60,
      "metadata": {
        "id": "f_Nd11aSjbup"
      },
      "outputs": [],
      "source": [
        "X = df.drop(['id','diagnosis'],axis=1)\n",
        "y = df['diagnosis']\n",
        "\n",
        "X_train, X_test, y_train, y_test = train_test_split( X, y, test_size=0.3, random_state=123)"
      ]
    },
    {
      "cell_type": "code",
      "source": [
        "X_train"
      ],
      "metadata": {
        "id": "KdCm_7tMmwlF",
        "colab": {
          "base_uri": "https://localhost:8080/",
          "height": 505
        },
        "outputId": "5ce9347a-da0a-4dc7-e7c5-33fceffba278"
      },
      "execution_count": 61,
      "outputs": [
        {
          "output_type": "execute_result",
          "data": {
            "text/plain": [
              "     time_for_recurrence  radius_mean  texture_mean  perimeter_mean  \\\n",
              "8                    119        13.00         21.82           87.50   \n",
              "152                    9        19.59         25.00          127.70   \n",
              "85                    72        14.45         20.22           94.49   \n",
              "149                   23        18.03         16.85          117.50   \n",
              "176                   14        17.53         25.28          114.00   \n",
              "..                   ...          ...           ...             ...   \n",
              "17                    10        21.16         23.04          137.20   \n",
              "98                    67        20.51         27.81          134.40   \n",
              "66                    43        11.80         16.58           78.99   \n",
              "126                   34        17.06         21.00          111.80   \n",
              "109                   39        20.31         27.06          132.90   \n",
              "\n",
              "     area_mean  smoothness_mean  compactness_mean  concavity_mean  \\\n",
              "8        519.8          0.12730           0.19320          0.1859   \n",
              "152     1191.0          0.10320           0.09871          0.1655   \n",
              "85       642.7          0.09872           0.12060          0.1180   \n",
              "149      990.0          0.08947           0.12320          0.1090   \n",
              "176      966.6          0.09278           0.09175          0.1105   \n",
              "..         ...              ...               ...             ...   \n",
              "17      1404.0          0.09428           0.10220          0.1097   \n",
              "98      1319.0          0.09159           0.10740          0.1554   \n",
              "66       432.0          0.10910           0.17000          0.1659   \n",
              "126      918.6          0.11190           0.10560          0.1508   \n",
              "109     1288.0          0.10000           0.10880          0.1519   \n",
              "\n",
              "     concave points_mean  symmetry_mean  ...  perimeter_worst  area_worst  \\\n",
              "8                0.09353         0.2350  ...           106.20       739.3   \n",
              "152              0.09063         0.1663  ...           139.80      1421.0   \n",
              "85               0.05980         0.1950  ...           117.90      1044.0   \n",
              "149              0.06254         0.1720  ...           133.30      1292.0   \n",
              "176              0.06741         0.1424  ...           142.60      1483.0   \n",
              "..                   ...            ...  ...              ...         ...   \n",
              "17               0.08632         0.1769  ...           188.00      2615.0   \n",
              "98               0.08340         0.1448  ...           162.70      1872.0   \n",
              "66               0.07415         0.2678  ...            91.93       591.7   \n",
              "126              0.09934         0.1727  ...           143.20      1362.0   \n",
              "109              0.09333         0.1814  ...           162.30      1844.0   \n",
              "\n",
              "     smoothness_worst  compactness_worst  concavity_worst  \\\n",
              "8              0.1703             0.5401           0.5390   \n",
              "152            0.1528             0.1845           0.3977   \n",
              "85             0.1552             0.4056           0.4967   \n",
              "149            0.1263             0.2666           0.4290   \n",
              "176            0.1287             0.2472           0.2753   \n",
              "..                ...                ...              ...   \n",
              "17             0.1401             0.2600           0.3155   \n",
              "98             0.1223             0.2761           0.4146   \n",
              "66             0.1385             0.4092           0.4504   \n",
              "126            0.1449             0.2053           0.3920   \n",
              "109            0.1522             0.2945           0.3788   \n",
              "\n",
              "     concave points_worst  symmetry_worst  fractal_dimension_worst  \\\n",
              "8                  0.2060          0.4378                  0.10720   \n",
              "152                0.1466          0.2293                  0.06091   \n",
              "85                 0.1838          0.4753                  0.10130   \n",
              "149                0.1535          0.2842                  0.08225   \n",
              "176                0.1372          0.2404                  0.07156   \n",
              "..                    ...             ...                      ...   \n",
              "17                 0.2009          0.2822                  0.07526   \n",
              "98                 0.1563          0.2437                  0.08328   \n",
              "66                 0.1865          0.5774                  0.10300   \n",
              "126                0.1827          0.2623                  0.07599   \n",
              "109                0.1697          0.3151                  0.07999   \n",
              "\n",
              "     tumor_size  lymph_node_status  \n",
              "8           2.0                  1  \n",
              "152         2.0                  7  \n",
              "85          1.5                  0  \n",
              "149         2.7                  0  \n",
              "176        10.0                  9  \n",
              "..          ...                ...  \n",
              "17          4.0                  1  \n",
              "98          9.0                 24  \n",
              "66          1.9                  0  \n",
              "126         1.5                  0  \n",
              "109         1.8                  1  \n",
              "\n",
              "[138 rows x 33 columns]"
            ],
            "text/html": [
              "\n",
              "  <div id=\"df-9d63c691-3d32-449f-92d5-c653ecf77862\">\n",
              "    <div class=\"colab-df-container\">\n",
              "      <div>\n",
              "<style scoped>\n",
              "    .dataframe tbody tr th:only-of-type {\n",
              "        vertical-align: middle;\n",
              "    }\n",
              "\n",
              "    .dataframe tbody tr th {\n",
              "        vertical-align: top;\n",
              "    }\n",
              "\n",
              "    .dataframe thead th {\n",
              "        text-align: right;\n",
              "    }\n",
              "</style>\n",
              "<table border=\"1\" class=\"dataframe\">\n",
              "  <thead>\n",
              "    <tr style=\"text-align: right;\">\n",
              "      <th></th>\n",
              "      <th>time_for_recurrence</th>\n",
              "      <th>radius_mean</th>\n",
              "      <th>texture_mean</th>\n",
              "      <th>perimeter_mean</th>\n",
              "      <th>area_mean</th>\n",
              "      <th>smoothness_mean</th>\n",
              "      <th>compactness_mean</th>\n",
              "      <th>concavity_mean</th>\n",
              "      <th>concave points_mean</th>\n",
              "      <th>symmetry_mean</th>\n",
              "      <th>...</th>\n",
              "      <th>perimeter_worst</th>\n",
              "      <th>area_worst</th>\n",
              "      <th>smoothness_worst</th>\n",
              "      <th>compactness_worst</th>\n",
              "      <th>concavity_worst</th>\n",
              "      <th>concave points_worst</th>\n",
              "      <th>symmetry_worst</th>\n",
              "      <th>fractal_dimension_worst</th>\n",
              "      <th>tumor_size</th>\n",
              "      <th>lymph_node_status</th>\n",
              "    </tr>\n",
              "  </thead>\n",
              "  <tbody>\n",
              "    <tr>\n",
              "      <th>8</th>\n",
              "      <td>119</td>\n",
              "      <td>13.00</td>\n",
              "      <td>21.82</td>\n",
              "      <td>87.50</td>\n",
              "      <td>519.8</td>\n",
              "      <td>0.12730</td>\n",
              "      <td>0.19320</td>\n",
              "      <td>0.1859</td>\n",
              "      <td>0.09353</td>\n",
              "      <td>0.2350</td>\n",
              "      <td>...</td>\n",
              "      <td>106.20</td>\n",
              "      <td>739.3</td>\n",
              "      <td>0.1703</td>\n",
              "      <td>0.5401</td>\n",
              "      <td>0.5390</td>\n",
              "      <td>0.2060</td>\n",
              "      <td>0.4378</td>\n",
              "      <td>0.10720</td>\n",
              "      <td>2.0</td>\n",
              "      <td>1</td>\n",
              "    </tr>\n",
              "    <tr>\n",
              "      <th>152</th>\n",
              "      <td>9</td>\n",
              "      <td>19.59</td>\n",
              "      <td>25.00</td>\n",
              "      <td>127.70</td>\n",
              "      <td>1191.0</td>\n",
              "      <td>0.10320</td>\n",
              "      <td>0.09871</td>\n",
              "      <td>0.1655</td>\n",
              "      <td>0.09063</td>\n",
              "      <td>0.1663</td>\n",
              "      <td>...</td>\n",
              "      <td>139.80</td>\n",
              "      <td>1421.0</td>\n",
              "      <td>0.1528</td>\n",
              "      <td>0.1845</td>\n",
              "      <td>0.3977</td>\n",
              "      <td>0.1466</td>\n",
              "      <td>0.2293</td>\n",
              "      <td>0.06091</td>\n",
              "      <td>2.0</td>\n",
              "      <td>7</td>\n",
              "    </tr>\n",
              "    <tr>\n",
              "      <th>85</th>\n",
              "      <td>72</td>\n",
              "      <td>14.45</td>\n",
              "      <td>20.22</td>\n",
              "      <td>94.49</td>\n",
              "      <td>642.7</td>\n",
              "      <td>0.09872</td>\n",
              "      <td>0.12060</td>\n",
              "      <td>0.1180</td>\n",
              "      <td>0.05980</td>\n",
              "      <td>0.1950</td>\n",
              "      <td>...</td>\n",
              "      <td>117.90</td>\n",
              "      <td>1044.0</td>\n",
              "      <td>0.1552</td>\n",
              "      <td>0.4056</td>\n",
              "      <td>0.4967</td>\n",
              "      <td>0.1838</td>\n",
              "      <td>0.4753</td>\n",
              "      <td>0.10130</td>\n",
              "      <td>1.5</td>\n",
              "      <td>0</td>\n",
              "    </tr>\n",
              "    <tr>\n",
              "      <th>149</th>\n",
              "      <td>23</td>\n",
              "      <td>18.03</td>\n",
              "      <td>16.85</td>\n",
              "      <td>117.50</td>\n",
              "      <td>990.0</td>\n",
              "      <td>0.08947</td>\n",
              "      <td>0.12320</td>\n",
              "      <td>0.1090</td>\n",
              "      <td>0.06254</td>\n",
              "      <td>0.1720</td>\n",
              "      <td>...</td>\n",
              "      <td>133.30</td>\n",
              "      <td>1292.0</td>\n",
              "      <td>0.1263</td>\n",
              "      <td>0.2666</td>\n",
              "      <td>0.4290</td>\n",
              "      <td>0.1535</td>\n",
              "      <td>0.2842</td>\n",
              "      <td>0.08225</td>\n",
              "      <td>2.7</td>\n",
              "      <td>0</td>\n",
              "    </tr>\n",
              "    <tr>\n",
              "      <th>176</th>\n",
              "      <td>14</td>\n",
              "      <td>17.53</td>\n",
              "      <td>25.28</td>\n",
              "      <td>114.00</td>\n",
              "      <td>966.6</td>\n",
              "      <td>0.09278</td>\n",
              "      <td>0.09175</td>\n",
              "      <td>0.1105</td>\n",
              "      <td>0.06741</td>\n",
              "      <td>0.1424</td>\n",
              "      <td>...</td>\n",
              "      <td>142.60</td>\n",
              "      <td>1483.0</td>\n",
              "      <td>0.1287</td>\n",
              "      <td>0.2472</td>\n",
              "      <td>0.2753</td>\n",
              "      <td>0.1372</td>\n",
              "      <td>0.2404</td>\n",
              "      <td>0.07156</td>\n",
              "      <td>10.0</td>\n",
              "      <td>9</td>\n",
              "    </tr>\n",
              "    <tr>\n",
              "      <th>...</th>\n",
              "      <td>...</td>\n",
              "      <td>...</td>\n",
              "      <td>...</td>\n",
              "      <td>...</td>\n",
              "      <td>...</td>\n",
              "      <td>...</td>\n",
              "      <td>...</td>\n",
              "      <td>...</td>\n",
              "      <td>...</td>\n",
              "      <td>...</td>\n",
              "      <td>...</td>\n",
              "      <td>...</td>\n",
              "      <td>...</td>\n",
              "      <td>...</td>\n",
              "      <td>...</td>\n",
              "      <td>...</td>\n",
              "      <td>...</td>\n",
              "      <td>...</td>\n",
              "      <td>...</td>\n",
              "      <td>...</td>\n",
              "      <td>...</td>\n",
              "    </tr>\n",
              "    <tr>\n",
              "      <th>17</th>\n",
              "      <td>10</td>\n",
              "      <td>21.16</td>\n",
              "      <td>23.04</td>\n",
              "      <td>137.20</td>\n",
              "      <td>1404.0</td>\n",
              "      <td>0.09428</td>\n",
              "      <td>0.10220</td>\n",
              "      <td>0.1097</td>\n",
              "      <td>0.08632</td>\n",
              "      <td>0.1769</td>\n",
              "      <td>...</td>\n",
              "      <td>188.00</td>\n",
              "      <td>2615.0</td>\n",
              "      <td>0.1401</td>\n",
              "      <td>0.2600</td>\n",
              "      <td>0.3155</td>\n",
              "      <td>0.2009</td>\n",
              "      <td>0.2822</td>\n",
              "      <td>0.07526</td>\n",
              "      <td>4.0</td>\n",
              "      <td>1</td>\n",
              "    </tr>\n",
              "    <tr>\n",
              "      <th>98</th>\n",
              "      <td>67</td>\n",
              "      <td>20.51</td>\n",
              "      <td>27.81</td>\n",
              "      <td>134.40</td>\n",
              "      <td>1319.0</td>\n",
              "      <td>0.09159</td>\n",
              "      <td>0.10740</td>\n",
              "      <td>0.1554</td>\n",
              "      <td>0.08340</td>\n",
              "      <td>0.1448</td>\n",
              "      <td>...</td>\n",
              "      <td>162.70</td>\n",
              "      <td>1872.0</td>\n",
              "      <td>0.1223</td>\n",
              "      <td>0.2761</td>\n",
              "      <td>0.4146</td>\n",
              "      <td>0.1563</td>\n",
              "      <td>0.2437</td>\n",
              "      <td>0.08328</td>\n",
              "      <td>9.0</td>\n",
              "      <td>24</td>\n",
              "    </tr>\n",
              "    <tr>\n",
              "      <th>66</th>\n",
              "      <td>43</td>\n",
              "      <td>11.80</td>\n",
              "      <td>16.58</td>\n",
              "      <td>78.99</td>\n",
              "      <td>432.0</td>\n",
              "      <td>0.10910</td>\n",
              "      <td>0.17000</td>\n",
              "      <td>0.1659</td>\n",
              "      <td>0.07415</td>\n",
              "      <td>0.2678</td>\n",
              "      <td>...</td>\n",
              "      <td>91.93</td>\n",
              "      <td>591.7</td>\n",
              "      <td>0.1385</td>\n",
              "      <td>0.4092</td>\n",
              "      <td>0.4504</td>\n",
              "      <td>0.1865</td>\n",
              "      <td>0.5774</td>\n",
              "      <td>0.10300</td>\n",
              "      <td>1.9</td>\n",
              "      <td>0</td>\n",
              "    </tr>\n",
              "    <tr>\n",
              "      <th>126</th>\n",
              "      <td>34</td>\n",
              "      <td>17.06</td>\n",
              "      <td>21.00</td>\n",
              "      <td>111.80</td>\n",
              "      <td>918.6</td>\n",
              "      <td>0.11190</td>\n",
              "      <td>0.10560</td>\n",
              "      <td>0.1508</td>\n",
              "      <td>0.09934</td>\n",
              "      <td>0.1727</td>\n",
              "      <td>...</td>\n",
              "      <td>143.20</td>\n",
              "      <td>1362.0</td>\n",
              "      <td>0.1449</td>\n",
              "      <td>0.2053</td>\n",
              "      <td>0.3920</td>\n",
              "      <td>0.1827</td>\n",
              "      <td>0.2623</td>\n",
              "      <td>0.07599</td>\n",
              "      <td>1.5</td>\n",
              "      <td>0</td>\n",
              "    </tr>\n",
              "    <tr>\n",
              "      <th>109</th>\n",
              "      <td>39</td>\n",
              "      <td>20.31</td>\n",
              "      <td>27.06</td>\n",
              "      <td>132.90</td>\n",
              "      <td>1288.0</td>\n",
              "      <td>0.10000</td>\n",
              "      <td>0.10880</td>\n",
              "      <td>0.1519</td>\n",
              "      <td>0.09333</td>\n",
              "      <td>0.1814</td>\n",
              "      <td>...</td>\n",
              "      <td>162.30</td>\n",
              "      <td>1844.0</td>\n",
              "      <td>0.1522</td>\n",
              "      <td>0.2945</td>\n",
              "      <td>0.3788</td>\n",
              "      <td>0.1697</td>\n",
              "      <td>0.3151</td>\n",
              "      <td>0.07999</td>\n",
              "      <td>1.8</td>\n",
              "      <td>1</td>\n",
              "    </tr>\n",
              "  </tbody>\n",
              "</table>\n",
              "<p>138 rows × 33 columns</p>\n",
              "</div>\n",
              "      <button class=\"colab-df-convert\" onclick=\"convertToInteractive('df-9d63c691-3d32-449f-92d5-c653ecf77862')\"\n",
              "              title=\"Convert this dataframe to an interactive table.\"\n",
              "              style=\"display:none;\">\n",
              "        \n",
              "  <svg xmlns=\"http://www.w3.org/2000/svg\" height=\"24px\"viewBox=\"0 0 24 24\"\n",
              "       width=\"24px\">\n",
              "    <path d=\"M0 0h24v24H0V0z\" fill=\"none\"/>\n",
              "    <path d=\"M18.56 5.44l.94 2.06.94-2.06 2.06-.94-2.06-.94-.94-2.06-.94 2.06-2.06.94zm-11 1L8.5 8.5l.94-2.06 2.06-.94-2.06-.94L8.5 2.5l-.94 2.06-2.06.94zm10 10l.94 2.06.94-2.06 2.06-.94-2.06-.94-.94-2.06-.94 2.06-2.06.94z\"/><path d=\"M17.41 7.96l-1.37-1.37c-.4-.4-.92-.59-1.43-.59-.52 0-1.04.2-1.43.59L10.3 9.45l-7.72 7.72c-.78.78-.78 2.05 0 2.83L4 21.41c.39.39.9.59 1.41.59.51 0 1.02-.2 1.41-.59l7.78-7.78 2.81-2.81c.8-.78.8-2.07 0-2.86zM5.41 20L4 18.59l7.72-7.72 1.47 1.35L5.41 20z\"/>\n",
              "  </svg>\n",
              "      </button>\n",
              "      \n",
              "  <style>\n",
              "    .colab-df-container {\n",
              "      display:flex;\n",
              "      flex-wrap:wrap;\n",
              "      gap: 12px;\n",
              "    }\n",
              "\n",
              "    .colab-df-convert {\n",
              "      background-color: #E8F0FE;\n",
              "      border: none;\n",
              "      border-radius: 50%;\n",
              "      cursor: pointer;\n",
              "      display: none;\n",
              "      fill: #1967D2;\n",
              "      height: 32px;\n",
              "      padding: 0 0 0 0;\n",
              "      width: 32px;\n",
              "    }\n",
              "\n",
              "    .colab-df-convert:hover {\n",
              "      background-color: #E2EBFA;\n",
              "      box-shadow: 0px 1px 2px rgba(60, 64, 67, 0.3), 0px 1px 3px 1px rgba(60, 64, 67, 0.15);\n",
              "      fill: #174EA6;\n",
              "    }\n",
              "\n",
              "    [theme=dark] .colab-df-convert {\n",
              "      background-color: #3B4455;\n",
              "      fill: #D2E3FC;\n",
              "    }\n",
              "\n",
              "    [theme=dark] .colab-df-convert:hover {\n",
              "      background-color: #434B5C;\n",
              "      box-shadow: 0px 1px 3px 1px rgba(0, 0, 0, 0.15);\n",
              "      filter: drop-shadow(0px 1px 2px rgba(0, 0, 0, 0.3));\n",
              "      fill: #FFFFFF;\n",
              "    }\n",
              "  </style>\n",
              "\n",
              "      <script>\n",
              "        const buttonEl =\n",
              "          document.querySelector('#df-9d63c691-3d32-449f-92d5-c653ecf77862 button.colab-df-convert');\n",
              "        buttonEl.style.display =\n",
              "          google.colab.kernel.accessAllowed ? 'block' : 'none';\n",
              "\n",
              "        async function convertToInteractive(key) {\n",
              "          const element = document.querySelector('#df-9d63c691-3d32-449f-92d5-c653ecf77862');\n",
              "          const dataTable =\n",
              "            await google.colab.kernel.invokeFunction('convertToInteractive',\n",
              "                                                     [key], {});\n",
              "          if (!dataTable) return;\n",
              "\n",
              "          const docLinkHtml = 'Like what you see? Visit the ' +\n",
              "            '<a target=\"_blank\" href=https://colab.research.google.com/notebooks/data_table.ipynb>data table notebook</a>'\n",
              "            + ' to learn more about interactive tables.';\n",
              "          element.innerHTML = '';\n",
              "          dataTable['output_type'] = 'display_data';\n",
              "          await google.colab.output.renderOutput(dataTable, element);\n",
              "          const docLink = document.createElement('div');\n",
              "          docLink.innerHTML = docLinkHtml;\n",
              "          element.appendChild(docLink);\n",
              "        }\n",
              "      </script>\n",
              "    </div>\n",
              "  </div>\n",
              "  "
            ]
          },
          "metadata": {},
          "execution_count": 61
        }
      ]
    },
    {
      "cell_type": "code",
      "execution_count": 62,
      "metadata": {
        "id": "0iYrlegSjbup"
      },
      "outputs": [],
      "source": [
        "sc = StandardScaler()\n",
        "X_train = sc.fit_transform(X_train)\n",
        "X_test = sc.transform(X_test)"
      ]
    },
    {
      "cell_type": "code",
      "source": [
        "model = [[\"LogisticRegression\",LogisticRegression()],[\"RandomForestClassifier\",RandomForestClassifier()],[\"DecisionTreeClassifier\",DecisionTreeClassifier()],[\"GaussianNB\",GaussianNB()],[\"KNeighborsClassifier\",KNeighborsClassifier()]]"
      ],
      "metadata": {
        "id": "AYqNkhaceCYd"
      },
      "execution_count": 63,
      "outputs": []
    },
    {
      "cell_type": "code",
      "source": [
        "X_train"
      ],
      "metadata": {
        "colab": {
          "base_uri": "https://localhost:8080/"
        },
        "id": "WjXmX2Mpm9mp",
        "outputId": "b017837e-3af3-41a8-e707-b90eb8ceb837"
      },
      "execution_count": 64,
      "outputs": [
        {
          "output_type": "execute_result",
          "data": {
            "text/plain": [
              "array([[ 2.03152549, -1.43605903, -0.07414605, ...,  0.7954371 ,\n",
              "        -0.43499663, -0.43242518],\n",
              "       [-1.15328881,  0.65070564,  0.71237204, ..., -1.45743731,\n",
              "        -0.43499663,  0.57616087],\n",
              "       [ 0.67074119, -0.97690747, -0.46987842, ...,  0.50829174,\n",
              "        -0.6784254 , -0.60052285],\n",
              "       ...,\n",
              "       [-0.16889167, -1.81604653, -1.37016957, ...,  0.59102854,\n",
              "        -0.48368238, -0.60052285],\n",
              "       [-0.42946738, -0.15043466, -0.27695889, ..., -0.72351322,\n",
              "        -0.6784254 , -0.60052285],\n",
              "       [-0.2847031 ,  0.87869814,  1.22187746, ..., -0.52883839,\n",
              "        -0.53236814, -0.43242518]])"
            ]
          },
          "metadata": {},
          "execution_count": 64
        }
      ]
    },
    {
      "cell_type": "code",
      "source": [
        "X_test"
      ],
      "metadata": {
        "colab": {
          "base_uri": "https://localhost:8080/"
        },
        "id": "7egsr_vSm_57",
        "outputId": "f812fc6e-1a74-4a37-e522-5f9d96871319"
      },
      "execution_count": 65,
      "outputs": [
        {
          "output_type": "execute_result",
          "data": {
            "text/plain": [
              "array([[-0.37156167, -0.26759748, -0.47482508, ..., -0.71183273,\n",
              "        -0.19156786, -0.60052285],\n",
              "       [ 0.12063691,  0.54937564,  1.07595115, ...,  1.0436475 ,\n",
              "         0.29528968, -0.60052285],\n",
              "       [-1.21119453,  0.87236502, -0.15576585, ..., -0.59502783,\n",
              "        -0.19156786,  0.91235621],\n",
              "       ...,\n",
              "       [ 1.0760812 , -1.04973841,  0.2473865 , ...,  2.61564671,\n",
              "        -0.82448266, -0.60052285],\n",
              "       [ 0.00482548, -0.64441841, -0.25717227, ...,  0.67863221,\n",
              "        -1.2139687 , -0.60052285],\n",
              "       [-1.03747739, -0.55575466, -1.24155655, ..., -0.6490501 ,\n",
              "        -1.01922568, -0.60052285]])"
            ]
          },
          "metadata": {},
          "execution_count": 65
        }
      ]
    },
    {
      "cell_type": "code",
      "execution_count": 68,
      "metadata": {
        "id": "PBfdNM4hjbup"
      },
      "outputs": [],
      "source": [
        "accuracy_score1 = []\n",
        "for i in model:\n",
        "    uchiha = i[1]\n",
        "    uchiha.fit(X_train,y_train)\n",
        "    predict = uchiha.predict(X_test)\n",
        "    accuracy_score1.append([i[0], accuracy_score(predict,y_test)])"
      ]
    },
    {
      "cell_type": "code",
      "execution_count": 69,
      "metadata": {
        "id": "-DgtnrMGjbuq"
      },
      "outputs": [],
      "source": [
        "main_score = pd.DataFrame(accuracy_score1)\n",
        "main_score.columns = [\"Model\",\"Score\"]"
      ]
    },
    {
      "cell_type": "code",
      "execution_count": 70,
      "metadata": {
        "colab": {
          "base_uri": "https://localhost:8080/",
          "height": 206
        },
        "id": "v4sgJJxkjbuq",
        "outputId": "ea50a7f1-39d7-4cce-ef2a-fe3a0917f34f"
      },
      "outputs": [
        {
          "output_type": "execute_result",
          "data": {
            "text/plain": [
              "                    Model     Score\n",
              "0      LogisticRegression  0.816667\n",
              "1  RandomForestClassifier  0.750000\n",
              "2  DecisionTreeClassifier  0.650000\n",
              "3              GaussianNB  0.683333\n",
              "4    KNeighborsClassifier  0.716667"
            ],
            "text/html": [
              "\n",
              "  <div id=\"df-9846c7b8-3636-479e-bf81-c443ad68ce39\">\n",
              "    <div class=\"colab-df-container\">\n",
              "      <div>\n",
              "<style scoped>\n",
              "    .dataframe tbody tr th:only-of-type {\n",
              "        vertical-align: middle;\n",
              "    }\n",
              "\n",
              "    .dataframe tbody tr th {\n",
              "        vertical-align: top;\n",
              "    }\n",
              "\n",
              "    .dataframe thead th {\n",
              "        text-align: right;\n",
              "    }\n",
              "</style>\n",
              "<table border=\"1\" class=\"dataframe\">\n",
              "  <thead>\n",
              "    <tr style=\"text-align: right;\">\n",
              "      <th></th>\n",
              "      <th>Model</th>\n",
              "      <th>Score</th>\n",
              "    </tr>\n",
              "  </thead>\n",
              "  <tbody>\n",
              "    <tr>\n",
              "      <th>0</th>\n",
              "      <td>LogisticRegression</td>\n",
              "      <td>0.816667</td>\n",
              "    </tr>\n",
              "    <tr>\n",
              "      <th>1</th>\n",
              "      <td>RandomForestClassifier</td>\n",
              "      <td>0.750000</td>\n",
              "    </tr>\n",
              "    <tr>\n",
              "      <th>2</th>\n",
              "      <td>DecisionTreeClassifier</td>\n",
              "      <td>0.650000</td>\n",
              "    </tr>\n",
              "    <tr>\n",
              "      <th>3</th>\n",
              "      <td>GaussianNB</td>\n",
              "      <td>0.683333</td>\n",
              "    </tr>\n",
              "    <tr>\n",
              "      <th>4</th>\n",
              "      <td>KNeighborsClassifier</td>\n",
              "      <td>0.716667</td>\n",
              "    </tr>\n",
              "  </tbody>\n",
              "</table>\n",
              "</div>\n",
              "      <button class=\"colab-df-convert\" onclick=\"convertToInteractive('df-9846c7b8-3636-479e-bf81-c443ad68ce39')\"\n",
              "              title=\"Convert this dataframe to an interactive table.\"\n",
              "              style=\"display:none;\">\n",
              "        \n",
              "  <svg xmlns=\"http://www.w3.org/2000/svg\" height=\"24px\"viewBox=\"0 0 24 24\"\n",
              "       width=\"24px\">\n",
              "    <path d=\"M0 0h24v24H0V0z\" fill=\"none\"/>\n",
              "    <path d=\"M18.56 5.44l.94 2.06.94-2.06 2.06-.94-2.06-.94-.94-2.06-.94 2.06-2.06.94zm-11 1L8.5 8.5l.94-2.06 2.06-.94-2.06-.94L8.5 2.5l-.94 2.06-2.06.94zm10 10l.94 2.06.94-2.06 2.06-.94-2.06-.94-.94-2.06-.94 2.06-2.06.94z\"/><path d=\"M17.41 7.96l-1.37-1.37c-.4-.4-.92-.59-1.43-.59-.52 0-1.04.2-1.43.59L10.3 9.45l-7.72 7.72c-.78.78-.78 2.05 0 2.83L4 21.41c.39.39.9.59 1.41.59.51 0 1.02-.2 1.41-.59l7.78-7.78 2.81-2.81c.8-.78.8-2.07 0-2.86zM5.41 20L4 18.59l7.72-7.72 1.47 1.35L5.41 20z\"/>\n",
              "  </svg>\n",
              "      </button>\n",
              "      \n",
              "  <style>\n",
              "    .colab-df-container {\n",
              "      display:flex;\n",
              "      flex-wrap:wrap;\n",
              "      gap: 12px;\n",
              "    }\n",
              "\n",
              "    .colab-df-convert {\n",
              "      background-color: #E8F0FE;\n",
              "      border: none;\n",
              "      border-radius: 50%;\n",
              "      cursor: pointer;\n",
              "      display: none;\n",
              "      fill: #1967D2;\n",
              "      height: 32px;\n",
              "      padding: 0 0 0 0;\n",
              "      width: 32px;\n",
              "    }\n",
              "\n",
              "    .colab-df-convert:hover {\n",
              "      background-color: #E2EBFA;\n",
              "      box-shadow: 0px 1px 2px rgba(60, 64, 67, 0.3), 0px 1px 3px 1px rgba(60, 64, 67, 0.15);\n",
              "      fill: #174EA6;\n",
              "    }\n",
              "\n",
              "    [theme=dark] .colab-df-convert {\n",
              "      background-color: #3B4455;\n",
              "      fill: #D2E3FC;\n",
              "    }\n",
              "\n",
              "    [theme=dark] .colab-df-convert:hover {\n",
              "      background-color: #434B5C;\n",
              "      box-shadow: 0px 1px 3px 1px rgba(0, 0, 0, 0.15);\n",
              "      filter: drop-shadow(0px 1px 2px rgba(0, 0, 0, 0.3));\n",
              "      fill: #FFFFFF;\n",
              "    }\n",
              "  </style>\n",
              "\n",
              "      <script>\n",
              "        const buttonEl =\n",
              "          document.querySelector('#df-9846c7b8-3636-479e-bf81-c443ad68ce39 button.colab-df-convert');\n",
              "        buttonEl.style.display =\n",
              "          google.colab.kernel.accessAllowed ? 'block' : 'none';\n",
              "\n",
              "        async function convertToInteractive(key) {\n",
              "          const element = document.querySelector('#df-9846c7b8-3636-479e-bf81-c443ad68ce39');\n",
              "          const dataTable =\n",
              "            await google.colab.kernel.invokeFunction('convertToInteractive',\n",
              "                                                     [key], {});\n",
              "          if (!dataTable) return;\n",
              "\n",
              "          const docLinkHtml = 'Like what you see? Visit the ' +\n",
              "            '<a target=\"_blank\" href=https://colab.research.google.com/notebooks/data_table.ipynb>data table notebook</a>'\n",
              "            + ' to learn more about interactive tables.';\n",
              "          element.innerHTML = '';\n",
              "          dataTable['output_type'] = 'display_data';\n",
              "          await google.colab.output.renderOutput(dataTable, element);\n",
              "          const docLink = document.createElement('div');\n",
              "          docLink.innerHTML = docLinkHtml;\n",
              "          element.appendChild(docLink);\n",
              "        }\n",
              "      </script>\n",
              "    </div>\n",
              "  </div>\n",
              "  "
            ]
          },
          "metadata": {},
          "execution_count": 70
        }
      ],
      "source": [
        "main_score"
      ]
    },
    {
      "cell_type": "code",
      "execution_count": null,
      "metadata": {
        "id": "0H1YoTVHjbuq"
      },
      "outputs": [],
      "source": [
        "xgboost\n",
        "catboost\n",
        "adaboost\n",
        "neuralnet (FNN)"
      ]
    },
    {
      "cell_type": "code",
      "execution_count": null,
      "metadata": {
        "id": "tAEGmVYYjbuq"
      },
      "outputs": [],
      "source": [
        ""
      ]
    }
  ],
  "metadata": {
    "kernelspec": {
      "display_name": "Python 3",
      "language": "python",
      "name": "python3"
    },
    "language_info": {
      "codemirror_mode": {
        "name": "ipython",
        "version": 3
      },
      "file_extension": ".py",
      "mimetype": "text/x-python",
      "name": "python",
      "nbconvert_exporter": "python",
      "pygments_lexer": "ipython3",
      "version": "3.6.6"
    },
    "colab": {
      "name": "breast-cancer-wisconsin-prognostic-97-8-detail.ipynb",
      "provenance": []
    }
  },
  "nbformat": 4,
  "nbformat_minor": 0
}