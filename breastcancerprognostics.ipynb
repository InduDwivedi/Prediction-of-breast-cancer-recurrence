{
  "cells": [
    {
      "cell_type": "code",
      "source": [
        "from google.colab import drive\n",
        "drive.mount('/content/drive')"
      ],
      "metadata": {
        "colab": {
          "base_uri": "https://localhost:8080/"
        },
        "id": "_k8NzmFijnfp",
        "outputId": "f14c5801-5112-4377-f53d-51a7517a9436"
      },
      "execution_count": 1,
      "outputs": [
        {
          "output_type": "stream",
          "name": "stdout",
          "text": [
            "Mounted at /content/drive\n"
          ]
        }
      ]
    },
    {
      "cell_type": "code",
      "execution_count": 2,
      "metadata": {
        "id": "xY2W19Yejbue"
      },
      "outputs": [],
      "source": [
        "import pandas as pd\n",
        "import seaborn as sns\n",
        "import numpy as np\n",
        "import matplotlib.pyplot as plt"
      ]
    },
    {
      "cell_type": "code",
      "execution_count": 3,
      "metadata": {
        "id": "VjDxcdn0jbui"
      },
      "outputs": [],
      "source": [
        "df = pd.read_csv(\"/content/drive/MyDrive/CSE587/wpbc_data_3.csv\")"
      ]
    },
    {
      "cell_type": "code",
      "execution_count": 4,
      "metadata": {
        "id": "v2wH27_5jbuj",
        "colab": {
          "base_uri": "https://localhost:8080/",
          "height": 317
        },
        "outputId": "8194fefa-7a6d-45e3-ca02-90e2e8877427"
      },
      "outputs": [
        {
          "output_type": "execute_result",
          "data": {
            "text/plain": [
              "       id diagnosis  time_for_recurrence  radius_mean  texture_mean  \\\n",
              "0  119513         N                   31        18.02         27.60   \n",
              "1    8423         N                   61        17.99         10.38   \n",
              "2  842517         N                  116        21.37         17.44   \n",
              "3  843483         N                  123        11.42         20.38   \n",
              "4  843584         R                   27        20.29         14.34   \n",
              "\n",
              "   perimeter_mean  area_mean  smoothness_mean  compactness_mean  \\\n",
              "0          117.50     1013.0          0.09489            0.1036   \n",
              "1          122.80     1001.0          0.11840            0.2776   \n",
              "2          137.50     1373.0          0.08836            0.1189   \n",
              "3           77.58      386.1          0.14250            0.2839   \n",
              "4          135.10     1297.0          0.10030            0.1328   \n",
              "\n",
              "   concavity_mean  ...  perimeter_worst  area_worst  smoothness_worst  \\\n",
              "0          0.1086  ...           139.70      1436.0            0.1195   \n",
              "1          0.3001  ...           184.60      2019.0            0.1622   \n",
              "2          0.1255  ...           159.10      1949.0            0.1188   \n",
              "3          0.2414  ...            98.87       567.7            0.2098   \n",
              "4          0.1980  ...           152.20      1575.0            0.1374   \n",
              "\n",
              "   compactness_worst  concavity_worst  concave points_worst  symmetry_worst  \\\n",
              "0             0.1926           0.3140                0.1170          0.2677   \n",
              "1             0.6656           0.7119                0.2654          0.4601   \n",
              "2             0.3449           0.3414                0.2032          0.4334   \n",
              "3             0.8663           0.6869                0.2575          0.6638   \n",
              "4             0.2050           0.4000                0.1625          0.2364   \n",
              "\n",
              "   fractal_dimension_worst  tumor_size  lymph_node_status  \n",
              "0                  0.08113         5.0                  5  \n",
              "1                  0.11890         3.0                  2  \n",
              "2                  0.09067         2.5                  0  \n",
              "3                  0.17300         2.0                  0  \n",
              "4                  0.07678         3.5                  0  \n",
              "\n",
              "[5 rows x 35 columns]"
            ],
            "text/html": [
              "\n",
              "  <div id=\"df-0843ca02-44b7-4a6f-b7e9-136b5777be8b\">\n",
              "    <div class=\"colab-df-container\">\n",
              "      <div>\n",
              "<style scoped>\n",
              "    .dataframe tbody tr th:only-of-type {\n",
              "        vertical-align: middle;\n",
              "    }\n",
              "\n",
              "    .dataframe tbody tr th {\n",
              "        vertical-align: top;\n",
              "    }\n",
              "\n",
              "    .dataframe thead th {\n",
              "        text-align: right;\n",
              "    }\n",
              "</style>\n",
              "<table border=\"1\" class=\"dataframe\">\n",
              "  <thead>\n",
              "    <tr style=\"text-align: right;\">\n",
              "      <th></th>\n",
              "      <th>id</th>\n",
              "      <th>diagnosis</th>\n",
              "      <th>time_for_recurrence</th>\n",
              "      <th>radius_mean</th>\n",
              "      <th>texture_mean</th>\n",
              "      <th>perimeter_mean</th>\n",
              "      <th>area_mean</th>\n",
              "      <th>smoothness_mean</th>\n",
              "      <th>compactness_mean</th>\n",
              "      <th>concavity_mean</th>\n",
              "      <th>...</th>\n",
              "      <th>perimeter_worst</th>\n",
              "      <th>area_worst</th>\n",
              "      <th>smoothness_worst</th>\n",
              "      <th>compactness_worst</th>\n",
              "      <th>concavity_worst</th>\n",
              "      <th>concave points_worst</th>\n",
              "      <th>symmetry_worst</th>\n",
              "      <th>fractal_dimension_worst</th>\n",
              "      <th>tumor_size</th>\n",
              "      <th>lymph_node_status</th>\n",
              "    </tr>\n",
              "  </thead>\n",
              "  <tbody>\n",
              "    <tr>\n",
              "      <th>0</th>\n",
              "      <td>119513</td>\n",
              "      <td>N</td>\n",
              "      <td>31</td>\n",
              "      <td>18.02</td>\n",
              "      <td>27.60</td>\n",
              "      <td>117.50</td>\n",
              "      <td>1013.0</td>\n",
              "      <td>0.09489</td>\n",
              "      <td>0.1036</td>\n",
              "      <td>0.1086</td>\n",
              "      <td>...</td>\n",
              "      <td>139.70</td>\n",
              "      <td>1436.0</td>\n",
              "      <td>0.1195</td>\n",
              "      <td>0.1926</td>\n",
              "      <td>0.3140</td>\n",
              "      <td>0.1170</td>\n",
              "      <td>0.2677</td>\n",
              "      <td>0.08113</td>\n",
              "      <td>5.0</td>\n",
              "      <td>5</td>\n",
              "    </tr>\n",
              "    <tr>\n",
              "      <th>1</th>\n",
              "      <td>8423</td>\n",
              "      <td>N</td>\n",
              "      <td>61</td>\n",
              "      <td>17.99</td>\n",
              "      <td>10.38</td>\n",
              "      <td>122.80</td>\n",
              "      <td>1001.0</td>\n",
              "      <td>0.11840</td>\n",
              "      <td>0.2776</td>\n",
              "      <td>0.3001</td>\n",
              "      <td>...</td>\n",
              "      <td>184.60</td>\n",
              "      <td>2019.0</td>\n",
              "      <td>0.1622</td>\n",
              "      <td>0.6656</td>\n",
              "      <td>0.7119</td>\n",
              "      <td>0.2654</td>\n",
              "      <td>0.4601</td>\n",
              "      <td>0.11890</td>\n",
              "      <td>3.0</td>\n",
              "      <td>2</td>\n",
              "    </tr>\n",
              "    <tr>\n",
              "      <th>2</th>\n",
              "      <td>842517</td>\n",
              "      <td>N</td>\n",
              "      <td>116</td>\n",
              "      <td>21.37</td>\n",
              "      <td>17.44</td>\n",
              "      <td>137.50</td>\n",
              "      <td>1373.0</td>\n",
              "      <td>0.08836</td>\n",
              "      <td>0.1189</td>\n",
              "      <td>0.1255</td>\n",
              "      <td>...</td>\n",
              "      <td>159.10</td>\n",
              "      <td>1949.0</td>\n",
              "      <td>0.1188</td>\n",
              "      <td>0.3449</td>\n",
              "      <td>0.3414</td>\n",
              "      <td>0.2032</td>\n",
              "      <td>0.4334</td>\n",
              "      <td>0.09067</td>\n",
              "      <td>2.5</td>\n",
              "      <td>0</td>\n",
              "    </tr>\n",
              "    <tr>\n",
              "      <th>3</th>\n",
              "      <td>843483</td>\n",
              "      <td>N</td>\n",
              "      <td>123</td>\n",
              "      <td>11.42</td>\n",
              "      <td>20.38</td>\n",
              "      <td>77.58</td>\n",
              "      <td>386.1</td>\n",
              "      <td>0.14250</td>\n",
              "      <td>0.2839</td>\n",
              "      <td>0.2414</td>\n",
              "      <td>...</td>\n",
              "      <td>98.87</td>\n",
              "      <td>567.7</td>\n",
              "      <td>0.2098</td>\n",
              "      <td>0.8663</td>\n",
              "      <td>0.6869</td>\n",
              "      <td>0.2575</td>\n",
              "      <td>0.6638</td>\n",
              "      <td>0.17300</td>\n",
              "      <td>2.0</td>\n",
              "      <td>0</td>\n",
              "    </tr>\n",
              "    <tr>\n",
              "      <th>4</th>\n",
              "      <td>843584</td>\n",
              "      <td>R</td>\n",
              "      <td>27</td>\n",
              "      <td>20.29</td>\n",
              "      <td>14.34</td>\n",
              "      <td>135.10</td>\n",
              "      <td>1297.0</td>\n",
              "      <td>0.10030</td>\n",
              "      <td>0.1328</td>\n",
              "      <td>0.1980</td>\n",
              "      <td>...</td>\n",
              "      <td>152.20</td>\n",
              "      <td>1575.0</td>\n",
              "      <td>0.1374</td>\n",
              "      <td>0.2050</td>\n",
              "      <td>0.4000</td>\n",
              "      <td>0.1625</td>\n",
              "      <td>0.2364</td>\n",
              "      <td>0.07678</td>\n",
              "      <td>3.5</td>\n",
              "      <td>0</td>\n",
              "    </tr>\n",
              "  </tbody>\n",
              "</table>\n",
              "<p>5 rows × 35 columns</p>\n",
              "</div>\n",
              "      <button class=\"colab-df-convert\" onclick=\"convertToInteractive('df-0843ca02-44b7-4a6f-b7e9-136b5777be8b')\"\n",
              "              title=\"Convert this dataframe to an interactive table.\"\n",
              "              style=\"display:none;\">\n",
              "        \n",
              "  <svg xmlns=\"http://www.w3.org/2000/svg\" height=\"24px\"viewBox=\"0 0 24 24\"\n",
              "       width=\"24px\">\n",
              "    <path d=\"M0 0h24v24H0V0z\" fill=\"none\"/>\n",
              "    <path d=\"M18.56 5.44l.94 2.06.94-2.06 2.06-.94-2.06-.94-.94-2.06-.94 2.06-2.06.94zm-11 1L8.5 8.5l.94-2.06 2.06-.94-2.06-.94L8.5 2.5l-.94 2.06-2.06.94zm10 10l.94 2.06.94-2.06 2.06-.94-2.06-.94-.94-2.06-.94 2.06-2.06.94z\"/><path d=\"M17.41 7.96l-1.37-1.37c-.4-.4-.92-.59-1.43-.59-.52 0-1.04.2-1.43.59L10.3 9.45l-7.72 7.72c-.78.78-.78 2.05 0 2.83L4 21.41c.39.39.9.59 1.41.59.51 0 1.02-.2 1.41-.59l7.78-7.78 2.81-2.81c.8-.78.8-2.07 0-2.86zM5.41 20L4 18.59l7.72-7.72 1.47 1.35L5.41 20z\"/>\n",
              "  </svg>\n",
              "      </button>\n",
              "      \n",
              "  <style>\n",
              "    .colab-df-container {\n",
              "      display:flex;\n",
              "      flex-wrap:wrap;\n",
              "      gap: 12px;\n",
              "    }\n",
              "\n",
              "    .colab-df-convert {\n",
              "      background-color: #E8F0FE;\n",
              "      border: none;\n",
              "      border-radius: 50%;\n",
              "      cursor: pointer;\n",
              "      display: none;\n",
              "      fill: #1967D2;\n",
              "      height: 32px;\n",
              "      padding: 0 0 0 0;\n",
              "      width: 32px;\n",
              "    }\n",
              "\n",
              "    .colab-df-convert:hover {\n",
              "      background-color: #E2EBFA;\n",
              "      box-shadow: 0px 1px 2px rgba(60, 64, 67, 0.3), 0px 1px 3px 1px rgba(60, 64, 67, 0.15);\n",
              "      fill: #174EA6;\n",
              "    }\n",
              "\n",
              "    [theme=dark] .colab-df-convert {\n",
              "      background-color: #3B4455;\n",
              "      fill: #D2E3FC;\n",
              "    }\n",
              "\n",
              "    [theme=dark] .colab-df-convert:hover {\n",
              "      background-color: #434B5C;\n",
              "      box-shadow: 0px 1px 3px 1px rgba(0, 0, 0, 0.15);\n",
              "      filter: drop-shadow(0px 1px 2px rgba(0, 0, 0, 0.3));\n",
              "      fill: #FFFFFF;\n",
              "    }\n",
              "  </style>\n",
              "\n",
              "      <script>\n",
              "        const buttonEl =\n",
              "          document.querySelector('#df-0843ca02-44b7-4a6f-b7e9-136b5777be8b button.colab-df-convert');\n",
              "        buttonEl.style.display =\n",
              "          google.colab.kernel.accessAllowed ? 'block' : 'none';\n",
              "\n",
              "        async function convertToInteractive(key) {\n",
              "          const element = document.querySelector('#df-0843ca02-44b7-4a6f-b7e9-136b5777be8b');\n",
              "          const dataTable =\n",
              "            await google.colab.kernel.invokeFunction('convertToInteractive',\n",
              "                                                     [key], {});\n",
              "          if (!dataTable) return;\n",
              "\n",
              "          const docLinkHtml = 'Like what you see? Visit the ' +\n",
              "            '<a target=\"_blank\" href=https://colab.research.google.com/notebooks/data_table.ipynb>data table notebook</a>'\n",
              "            + ' to learn more about interactive tables.';\n",
              "          element.innerHTML = '';\n",
              "          dataTable['output_type'] = 'display_data';\n",
              "          await google.colab.output.renderOutput(dataTable, element);\n",
              "          const docLink = document.createElement('div');\n",
              "          docLink.innerHTML = docLinkHtml;\n",
              "          element.appendChild(docLink);\n",
              "        }\n",
              "      </script>\n",
              "    </div>\n",
              "  </div>\n",
              "  "
            ]
          },
          "metadata": {},
          "execution_count": 4
        }
      ],
      "source": [
        "df.head()"
      ]
    },
    {
      "cell_type": "code",
      "source": [
        "df.shape"
      ],
      "metadata": {
        "colab": {
          "base_uri": "https://localhost:8080/"
        },
        "id": "Xuaj_TW2Zo6E",
        "outputId": "d437793d-3ba4-4394-ad04-5d5e0961de7c"
      },
      "execution_count": 5,
      "outputs": [
        {
          "output_type": "execute_result",
          "data": {
            "text/plain": [
              "(198, 35)"
            ]
          },
          "metadata": {},
          "execution_count": 5
        }
      ]
    },
    {
      "cell_type": "code",
      "source": [
        "df.info()"
      ],
      "metadata": {
        "id": "SBGQIlksk3F2",
        "colab": {
          "base_uri": "https://localhost:8080/"
        },
        "outputId": "5e5a30fb-e39d-458f-cb55-ad1a5789b657"
      },
      "execution_count": 6,
      "outputs": [
        {
          "output_type": "stream",
          "name": "stdout",
          "text": [
            "<class 'pandas.core.frame.DataFrame'>\n",
            "RangeIndex: 198 entries, 0 to 197\n",
            "Data columns (total 35 columns):\n",
            " #   Column                   Non-Null Count  Dtype  \n",
            "---  ------                   --------------  -----  \n",
            " 0   id                       198 non-null    int64  \n",
            " 1   diagnosis                198 non-null    object \n",
            " 2   time_for_recurrence      198 non-null    int64  \n",
            " 3   radius_mean              198 non-null    float64\n",
            " 4   texture_mean             198 non-null    float64\n",
            " 5   perimeter_mean           198 non-null    float64\n",
            " 6   area_mean                198 non-null    float64\n",
            " 7   smoothness_mean          198 non-null    float64\n",
            " 8   compactness_mean         198 non-null    float64\n",
            " 9   concavity_mean           198 non-null    float64\n",
            " 10  concave points_mean      198 non-null    float64\n",
            " 11  symmetry_mean            198 non-null    float64\n",
            " 12  fractal_dimension_mean   198 non-null    float64\n",
            " 13  radius_se                198 non-null    float64\n",
            " 14  texture_se               198 non-null    float64\n",
            " 15  perimeter_se             198 non-null    float64\n",
            " 16  area_se                  198 non-null    float64\n",
            " 17  smoothness_se            198 non-null    float64\n",
            " 18  compactness_se           198 non-null    float64\n",
            " 19  concavity_se             198 non-null    float64\n",
            " 20  concave points_se        198 non-null    float64\n",
            " 21  symmetry_se              198 non-null    float64\n",
            " 22  fractal_dimension_se     198 non-null    float64\n",
            " 23  radius_worst             198 non-null    float64\n",
            " 24  texture_worst            198 non-null    float64\n",
            " 25  perimeter_worst          198 non-null    float64\n",
            " 26  area_worst               198 non-null    float64\n",
            " 27  smoothness_worst         198 non-null    float64\n",
            " 28  compactness_worst        198 non-null    float64\n",
            " 29  concavity_worst          198 non-null    float64\n",
            " 30  concave points_worst     198 non-null    float64\n",
            " 31  symmetry_worst           198 non-null    float64\n",
            " 32  fractal_dimension_worst  198 non-null    float64\n",
            " 33  tumor_size               198 non-null    float64\n",
            " 34  lymph_node_status        198 non-null    object \n",
            "dtypes: float64(31), int64(2), object(2)\n",
            "memory usage: 54.3+ KB\n"
          ]
        }
      ]
    },
    {
      "cell_type": "code",
      "source": [
        "df['lymph_node_status'].replace('?',0, inplace = True)"
      ],
      "metadata": {
        "id": "WM3Frrvac-k7"
      },
      "execution_count": 7,
      "outputs": []
    },
    {
      "cell_type": "code",
      "execution_count": 9,
      "metadata": {
        "id": "c-cVJZzfjbuk",
        "colab": {
          "base_uri": "https://localhost:8080/"
        },
        "outputId": "d493b943-d704-469b-ce71-9ffe52b87db8"
      },
      "outputs": [
        {
          "output_type": "execute_result",
          "data": {
            "text/plain": [
              "id                         0\n",
              "diagnosis                  0\n",
              "time_for_recurrence        0\n",
              "radius_mean                0\n",
              "texture_mean               0\n",
              "perimeter_mean             0\n",
              "area_mean                  0\n",
              "smoothness_mean            0\n",
              "compactness_mean           0\n",
              "concavity_mean             0\n",
              "concave points_mean        0\n",
              "symmetry_mean              0\n",
              "fractal_dimension_mean     0\n",
              "radius_se                  0\n",
              "texture_se                 0\n",
              "perimeter_se               0\n",
              "area_se                    0\n",
              "smoothness_se              0\n",
              "compactness_se             0\n",
              "concavity_se               0\n",
              "concave points_se          0\n",
              "symmetry_se                0\n",
              "fractal_dimension_se       0\n",
              "radius_worst               0\n",
              "texture_worst              0\n",
              "perimeter_worst            0\n",
              "area_worst                 0\n",
              "smoothness_worst           0\n",
              "compactness_worst          0\n",
              "concavity_worst            0\n",
              "concave points_worst       0\n",
              "symmetry_worst             0\n",
              "fractal_dimension_worst    0\n",
              "tumor_size                 0\n",
              "lymph_node_status          0\n",
              "dtype: int64"
            ]
          },
          "metadata": {},
          "execution_count": 9
        }
      ],
      "source": [
        "df.isna().sum()"
      ]
    },
    {
      "cell_type": "code",
      "execution_count": 10,
      "metadata": {
        "colab": {
          "base_uri": "https://localhost:8080/",
          "height": 298
        },
        "id": "8Mny06ydjbuk",
        "outputId": "e4314d0d-fc2b-4833-a601-eb35d33748ee"
      },
      "outputs": [
        {
          "output_type": "execute_result",
          "data": {
            "text/plain": [
              "<matplotlib.axes._subplots.AxesSubplot at 0x7fbee4052250>"
            ]
          },
          "metadata": {},
          "execution_count": 10
        },
        {
          "output_type": "display_data",
          "data": {
            "text/plain": [
              "<Figure size 432x288 with 1 Axes>"
            ],
            "image/png": "[encoded data removed]"
          },
          "metadata": {
            "needs_background": "light"
          }
        }
      ],
      "source": [
        "sns.lineplot(x=df[\"radius_mean\"],y=df[\"perimeter_mean\"], hue=df[\"diagnosis\"])"
      ]
    },
    {
      "cell_type": "code",
      "source": [
        "##Trying out differenet paramters\n",
        "\n",
        "sns.lineplot(x=df[\"radius_mean\"],y=df[\"perimeter_mean\"], hue=df[\"diagnosis\"])"
      ],
      "metadata": {
        "colab": {
          "base_uri": "https://localhost:8080/",
          "height": 298
        },
        "id": "-MhaWN0oe3dH",
        "outputId": "289c252b-526e-48b0-a423-757c398b0510"
      },
      "execution_count": 13,
      "outputs": [
        {
          "output_type": "execute_result",
          "data": {
            "text/plain": [
              "<matplotlib.axes._subplots.AxesSubplot at 0x7fbee3977c50>"
            ]
          },
          "metadata": {},
          "execution_count": 13
        },
        {
          "output_type": "display_data",
          "data": {
            "text/plain": [
              "<Figure size 432x288 with 1 Axes>"
            ],
            "image/png": "[encoded data removed]"
          },
          "metadata": {
            "needs_background": "light"
          }
        }
      ]
    },
    {
      "cell_type": "code",
      "execution_count": null,
      "metadata": {
        "id": "Vt_h-CE1jbuk"
      },
      "outputs": [],
      "source": [
        "sns.countplot(df['diagnosis'])"
      ]
    },
    {
      "cell_type": "code",
      "execution_count": 17,
      "metadata": {
        "id": "8N1HZWzpjbul"
      },
      "outputs": [],
      "source": [
        "#sns.barplot(df['diagnosis'],df['area_mean'])"
      ]
    },
    {
      "cell_type": "code",
      "execution_count": 18,
      "metadata": {
        "colab": {
          "base_uri": "https://localhost:8080/",
          "height": 296
        },
        "id": "kxpe_3OGjbul",
        "outputId": "dc96d585-cacf-456e-f5bb-ea79ee35b005"
      },
      "outputs": [
        {
          "output_type": "execute_result",
          "data": {
            "text/plain": [
              "<matplotlib.axes._subplots.AxesSubplot at 0x7fbee3869150>"
            ]
          },
          "metadata": {},
          "execution_count": 18
        },
        {
          "output_type": "display_data",
          "data": {
            "text/plain": [
              "<Figure size 432x288 with 1 Axes>"
            ],
            "image/png": "[encoded data removed]"
          },
          "metadata": {
            "needs_background": "light"
          }
        }
      ],
      "source": [
        "sns.scatterplot(x = df['area_mean'],y= df['smoothness_mean'],hue=df['diagnosis'])"
      ]
    },
    {
      "cell_type": "code",
      "execution_count": 19,
      "metadata": {
        "colab": {
          "base_uri": "https://localhost:8080/",
          "height": 296
        },
        "id": "zLieNRBbjbum",
        "outputId": "972bba89-310f-489f-e4f8-35a0d41e00ca"
      },
      "outputs": [
        {
          "output_type": "execute_result",
          "data": {
            "text/plain": [
              "<matplotlib.axes._subplots.AxesSubplot at 0x7fbee388bd50>"
            ]
          },
          "metadata": {},
          "execution_count": 19
        },
        {
          "output_type": "display_data",
          "data": {
            "text/plain": [
              "<Figure size 432x288 with 1 Axes>"
            ],
            "image/png": "[encoded data removed]"
          },
          "metadata": {
            "needs_background": "light"
          }
        }
      ],
      "source": [
        "sns.regplot(x = df['area_mean'],y= df['smoothness_mean'])"
      ]
    },
    {
      "cell_type": "code",
      "execution_count": 20,
      "metadata": {
        "colab": {
          "base_uri": "https://localhost:8080/",
          "height": 386
        },
        "id": "rfKAhQrujbum",
        "outputId": "4d41945b-4c2b-482c-a485-b983f776b0cb"
      },
      "outputs": [
        {
          "output_type": "execute_result",
          "data": {
            "text/plain": [
              "<seaborn.axisgrid.FacetGrid at 0x7fbee36f20d0>"
            ]
          },
          "metadata": {},
          "execution_count": 20
        },
        {
          "output_type": "display_data",
          "data": {
            "text/plain": [
              "<Figure size 415.5x360 with 1 Axes>"
            ],
            "image/png": "[encoded data removed]"
          },
          "metadata": {
            "needs_background": "light"
          }
        }
      ],
      "source": [
        "sns.lmplot(x='area_mean',y='smoothness_mean',hue='diagnosis',data=df)"
      ]
    },
    {
      "cell_type": "code",
      "execution_count": 23,
      "metadata": {
        "colab": {
          "base_uri": "https://localhost:8080/",
          "height": 296
        },
        "id": "qiX5V157jbun",
        "outputId": "b1be3c46-d5b8-4a1f-dc64-9a59aaef436a"
      },
      "outputs": [
        {
          "output_type": "execute_result",
          "data": {
            "text/plain": [
              "<matplotlib.axes._subplots.AxesSubplot at 0x7fbee0e66c90>"
            ]
          },
          "metadata": {},
          "execution_count": 23
        },
        {
          "output_type": "display_data",
          "data": {
            "text/plain": [
              "<Figure size 432x288 with 1 Axes>"
            ],
            "image/png": "[encoded data removed]"
          },
          "metadata": {
            "needs_background": "light"
          }
        }
      ],
      "source": [
        "sns.swarmplot(x=df['diagnosis'],y=df['smoothness_mean'])"
      ]
    },
    {
      "cell_type": "code",
      "execution_count": 25,
      "metadata": {
        "colab": {
          "base_uri": "https://localhost:8080/",
          "height": 352
        },
        "id": "6RboQdQnjbun",
        "outputId": "35bb7761-fb16-47a5-a87b-7a5cc182758b"
      },
      "outputs": [
        {
          "output_type": "stream",
          "name": "stderr",
          "text": [
            "/usr/local/lib/python3.7/dist-packages/seaborn/distributions.py:2619: FutureWarning: `distplot` is a deprecated function and will be removed in a future version. Please adapt your code to use either `displot` (a figure-level function with similar flexibility) or `histplot` (an axes-level function for histograms).\n",
            "  warnings.warn(msg, FutureWarning)\n"
          ]
        },
        {
          "output_type": "execute_result",
          "data": {
            "text/plain": [
              "<matplotlib.axes._subplots.AxesSubplot at 0x7fbedec54650>"
            ]
          },
          "metadata": {},
          "execution_count": 25
        },
        {
          "output_type": "display_data",
          "data": {
            "text/plain": [
              "<Figure size 432x288 with 1 Axes>"
            ],
            "image/png": "[encoded data removed]"
          },
          "metadata": {
            "needs_background": "light"
          }
        }
      ],
      "source": [
        "sns.distplot(df['perimeter_mean'])"
      ]
    },
    {
      "cell_type": "code",
      "execution_count": null,
      "metadata": {
        "id": "O1jds0Bbjbuo"
      },
      "outputs": [],
      "source": [
        "sns.distplot(df['smoothness_mean'])"
      ]
    },
    {
      "cell_type": "code",
      "execution_count": null,
      "metadata": {
        "id": "XNmXqgjmjbuo"
      },
      "outputs": [],
      "source": [
        "sns.jointplot(df['perimeter_mean'],df['smoothness_mean'],kind='kde')"
      ]
    },
    {
      "cell_type": "code",
      "execution_count": 39,
      "metadata": {
        "id": "s38nNqERjbuo"
      },
      "outputs": [],
      "source": [
        "from sklearn.preprocessing import StandardScaler\n",
        "from sklearn.linear_model import LogisticRegression\n",
        "from sklearn.ensemble import RandomForestClassifier\n",
        "from sklearn.tree import DecisionTreeClassifier\n",
        "from sklearn.naive_bayes import GaussianNB\n",
        "from sklearn.neighbors import KNeighborsClassifier\n",
        "from sklearn.metrics import accuracy_score\n",
        "from sklearn.model_selection import train_test_split\n"
      ]
    },
    {
      "cell_type": "code",
      "source": [
        "from sklearn.svm import SVC\n"
      ],
      "metadata": {
        "id": "tDRvLegPoHwd"
      },
      "execution_count": 63,
      "outputs": []
    },
    {
      "cell_type": "code",
      "execution_count": 64,
      "metadata": {
        "id": "f_Nd11aSjbup"
      },
      "outputs": [],
      "source": [
        "X = df.drop(['id','diagnosis'],axis=1)\n",
        "y = df['diagnosis']\n",
        "\n",
        "X_train, X_test, y_train, y_test = train_test_split( X, y, test_size=0.3, random_state=349)"
      ]
    },
    {
      "cell_type": "code",
      "source": [
        "X_train"
      ],
      "metadata": {
        "id": "KdCm_7tMmwlF",
        "colab": {
          "base_uri": "https://localhost:8080/",
          "height": 505
        },
        "outputId": "7027ebaf-18bc-4176-e7f7-7425501f372b"
      },
      "execution_count": 65,
      "outputs": [
        {
          "output_type": "execute_result",
          "data": {
            "text/plain": [
              "     time_for_recurrence  radius_mean  texture_mean  perimeter_mean  \\\n",
              "97                    63        17.05         19.08          113.40   \n",
              "161                    7        24.24         18.74          159.60   \n",
              "150                   16        17.75         28.03          117.30   \n",
              "148                   13        17.27         25.42          112.40   \n",
              "185                   17        13.63         24.70           89.65   \n",
              "..                   ...          ...           ...             ...   \n",
              "179                   13        15.60         26.79           99.85   \n",
              "31                    76        13.48         20.82           88.40   \n",
              "47                    97        19.55         15.49          128.00   \n",
              "42                    34        14.25         22.15           96.42   \n",
              "189                    6        19.80         20.46          130.20   \n",
              "\n",
              "     area_mean  smoothness_mean  compactness_mean  concavity_mean  \\\n",
              "97       895.0          0.11410            0.1572         0.19100   \n",
              "161     1945.0          0.08938            0.1136         0.17270   \n",
              "150      981.6          0.09997            0.1314         0.16980   \n",
              "148      928.8          0.08331            0.1109         0.12040   \n",
              "185      569.2          0.10550            0.1312         0.11610   \n",
              "..         ...              ...               ...             ...   \n",
              "179      760.0          0.07885            0.0524         0.03778   \n",
              "31       559.2          0.10160            0.1255         0.10630   \n",
              "47      1156.0          0.10790            0.1747         0.23520   \n",
              "42       645.7          0.10490            0.2008         0.21350   \n",
              "189     1235.0          0.09652            0.1077         0.15990   \n",
              "\n",
              "     concave points_mean  symmetry_mean  ...  perimeter_worst  area_worst  \\\n",
              "97               0.10900         0.2131  ...            133.5      1189.0   \n",
              "161              0.10710         0.1591  ...            232.2      3903.0   \n",
              "150              0.08293         0.1713  ...            145.4      1437.0   \n",
              "148              0.05736         0.1467  ...            132.8      1284.0   \n",
              "185              0.06403         0.1791  ...            107.7       712.2   \n",
              "..                   ...            ...  ...              ...         ...   \n",
              "179              0.02876         0.1580  ...            117.2      1027.0   \n",
              "31               0.05439         0.1720  ...            107.3       740.4   \n",
              "47               0.11960         0.2616  ...            153.4      1633.0   \n",
              "42               0.08653         0.1949  ...            119.1       959.5   \n",
              "189              0.08705         0.1620  ...            155.1      1623.0   \n",
              "\n",
              "     smoothness_worst  compactness_worst  concavity_worst  \\\n",
              "97             0.1703            0.39340           0.5018   \n",
              "161            0.1154            0.17720           0.2917   \n",
              "150            0.1401            0.37620           0.6399   \n",
              "148            0.1436            0.41220           0.5036   \n",
              "185            0.1554            0.35150           0.3409   \n",
              "..                ...                ...              ...   \n",
              "179            0.1097            0.09745           0.1263   \n",
              "31             0.1610            0.42250           0.5030   \n",
              "47             0.1534            0.33910           0.5819   \n",
              "42             0.1640            0.62470           0.6922   \n",
              "189            0.1373            0.23680           0.3931   \n",
              "\n",
              "     concave points_worst  symmetry_worst  fractal_dimension_worst  \\\n",
              "97                0.25430          0.3109                  0.09061   \n",
              "161               0.17950          0.2336                  0.06259   \n",
              "150               0.19700          0.2972                  0.09075   \n",
              "148               0.17390          0.2500                  0.07944   \n",
              "185               0.16890          0.2739                  0.09945   \n",
              "..                    ...             ...                      ...   \n",
              "179               0.08222          0.2805                  0.06378   \n",
              "31                0.22580          0.2807                  0.10710   \n",
              "47                0.22000          0.4714                  0.09721   \n",
              "42                0.17850          0.2844                  0.11320   \n",
              "189               0.18400          0.2382                  0.06831   \n",
              "\n",
              "     tumor_size  lymph_node_status  \n",
              "97          1.5                  5  \n",
              "161         3.0                  4  \n",
              "150         1.5                  7  \n",
              "148         9.0                  0  \n",
              "185         2.0                  0  \n",
              "..          ...                ...  \n",
              "179         2.0                  2  \n",
              "31          2.5                  0  \n",
              "47          3.0                  0  \n",
              "42          1.5                  0  \n",
              "189         2.1                  2  \n",
              "\n",
              "[138 rows x 33 columns]"
            ],
            "text/html": [
              "\n",
              "  <div id=\"df-ab5ba9aa-852c-42f7-b71f-3b72526fe631\">\n",
              "    <div class=\"colab-df-container\">\n",
              "      <div>\n",
              "<style scoped>\n",
              "    .dataframe tbody tr th:only-of-type {\n",
              "        vertical-align: middle;\n",
              "    }\n",
              "\n",
              "    .dataframe tbody tr th {\n",
              "        vertical-align: top;\n",
              "    }\n",
              "\n",
              "    .dataframe thead th {\n",
              "        text-align: right;\n",
              "    }\n",
              "</style>\n",
              "<table border=\"1\" class=\"dataframe\">\n",
              "  <thead>\n",
              "    <tr style=\"text-align: right;\">\n",
              "      <th></th>\n",
              "      <th>time_for_recurrence</th>\n",
              "      <th>radius_mean</th>\n",
              "      <th>texture_mean</th>\n",
              "      <th>perimeter_mean</th>\n",
              "      <th>area_mean</th>\n",
              "      <th>smoothness_mean</th>\n",
              "      <th>compactness_mean</th>\n",
              "      <th>concavity_mean</th>\n",
              "      <th>concave points_mean</th>\n",
              "      <th>symmetry_mean</th>\n",
              "      <th>...</th>\n",
              "      <th>perimeter_worst</th>\n",
              "      <th>area_worst</th>\n",
              "      <th>smoothness_worst</th>\n",
              "      <th>compactness_worst</th>\n",
              "      <th>concavity_worst</th>\n",
              "      <th>concave points_worst</th>\n",
              "      <th>symmetry_worst</th>\n",
              "      <th>fractal_dimension_worst</th>\n",
              "      <th>tumor_size</th>\n",
              "      <th>lymph_node_status</th>\n",
              "    </tr>\n",
              "  </thead>\n",
              "  <tbody>\n",
              "    <tr>\n",
              "      <th>97</th>\n",
              "      <td>63</td>\n",
              "      <td>17.05</td>\n",
              "      <td>19.08</td>\n",
              "      <td>113.40</td>\n",
              "      <td>895.0</td>\n",
              "      <td>0.11410</td>\n",
              "      <td>0.1572</td>\n",
              "      <td>0.19100</td>\n",
              "      <td>0.10900</td>\n",
              "      <td>0.2131</td>\n",
              "      <td>...</td>\n",
              "      <td>133.5</td>\n",
              "      <td>1189.0</td>\n",
              "      <td>0.1703</td>\n",
              "      <td>0.39340</td>\n",
              "      <td>0.5018</td>\n",
              "      <td>0.25430</td>\n",
              "      <td>0.3109</td>\n",
              "      <td>0.09061</td>\n",
              "      <td>1.5</td>\n",
              "      <td>5</td>\n",
              "    </tr>\n",
              "    <tr>\n",
              "      <th>161</th>\n",
              "      <td>7</td>\n",
              "      <td>24.24</td>\n",
              "      <td>18.74</td>\n",
              "      <td>159.60</td>\n",
              "      <td>1945.0</td>\n",
              "      <td>0.08938</td>\n",
              "      <td>0.1136</td>\n",
              "      <td>0.17270</td>\n",
              "      <td>0.10710</td>\n",
              "      <td>0.1591</td>\n",
              "      <td>...</td>\n",
              "      <td>232.2</td>\n",
              "      <td>3903.0</td>\n",
              "      <td>0.1154</td>\n",
              "      <td>0.17720</td>\n",
              "      <td>0.2917</td>\n",
              "      <td>0.17950</td>\n",
              "      <td>0.2336</td>\n",
              "      <td>0.06259</td>\n",
              "      <td>3.0</td>\n",
              "      <td>4</td>\n",
              "    </tr>\n",
              "    <tr>\n",
              "      <th>150</th>\n",
              "      <td>16</td>\n",
              "      <td>17.75</td>\n",
              "      <td>28.03</td>\n",
              "      <td>117.30</td>\n",
              "      <td>981.6</td>\n",
              "      <td>0.09997</td>\n",
              "      <td>0.1314</td>\n",
              "      <td>0.16980</td>\n",
              "      <td>0.08293</td>\n",
              "      <td>0.1713</td>\n",
              "      <td>...</td>\n",
              "      <td>145.4</td>\n",
              "      <td>1437.0</td>\n",
              "      <td>0.1401</td>\n",
              "      <td>0.37620</td>\n",
              "      <td>0.6399</td>\n",
              "      <td>0.19700</td>\n",
              "      <td>0.2972</td>\n",
              "      <td>0.09075</td>\n",
              "      <td>1.5</td>\n",
              "      <td>7</td>\n",
              "    </tr>\n",
              "    <tr>\n",
              "      <th>148</th>\n",
              "      <td>13</td>\n",
              "      <td>17.27</td>\n",
              "      <td>25.42</td>\n",
              "      <td>112.40</td>\n",
              "      <td>928.8</td>\n",
              "      <td>0.08331</td>\n",
              "      <td>0.1109</td>\n",
              "      <td>0.12040</td>\n",
              "      <td>0.05736</td>\n",
              "      <td>0.1467</td>\n",
              "      <td>...</td>\n",
              "      <td>132.8</td>\n",
              "      <td>1284.0</td>\n",
              "      <td>0.1436</td>\n",
              "      <td>0.41220</td>\n",
              "      <td>0.5036</td>\n",
              "      <td>0.17390</td>\n",
              "      <td>0.2500</td>\n",
              "      <td>0.07944</td>\n",
              "      <td>9.0</td>\n",
              "      <td>0</td>\n",
              "    </tr>\n",
              "    <tr>\n",
              "      <th>185</th>\n",
              "      <td>17</td>\n",
              "      <td>13.63</td>\n",
              "      <td>24.70</td>\n",
              "      <td>89.65</td>\n",
              "      <td>569.2</td>\n",
              "      <td>0.10550</td>\n",
              "      <td>0.1312</td>\n",
              "      <td>0.11610</td>\n",
              "      <td>0.06403</td>\n",
              "      <td>0.1791</td>\n",
              "      <td>...</td>\n",
              "      <td>107.7</td>\n",
              "      <td>712.2</td>\n",
              "      <td>0.1554</td>\n",
              "      <td>0.35150</td>\n",
              "      <td>0.3409</td>\n",
              "      <td>0.16890</td>\n",
              "      <td>0.2739</td>\n",
              "      <td>0.09945</td>\n",
              "      <td>2.0</td>\n",
              "      <td>0</td>\n",
              "    </tr>\n",
              "    <tr>\n",
              "      <th>...</th>\n",
              "      <td>...</td>\n",
              "      <td>...</td>\n",
              "      <td>...</td>\n",
              "      <td>...</td>\n",
              "      <td>...</td>\n",
              "      <td>...</td>\n",
              "      <td>...</td>\n",
              "      <td>...</td>\n",
              "      <td>...</td>\n",
              "      <td>...</td>\n",
              "      <td>...</td>\n",
              "      <td>...</td>\n",
              "      <td>...</td>\n",
              "      <td>...</td>\n",
              "      <td>...</td>\n",
              "      <td>...</td>\n",
              "      <td>...</td>\n",
              "      <td>...</td>\n",
              "      <td>...</td>\n",
              "      <td>...</td>\n",
              "      <td>...</td>\n",
              "    </tr>\n",
              "    <tr>\n",
              "      <th>179</th>\n",
              "      <td>13</td>\n",
              "      <td>15.60</td>\n",
              "      <td>26.79</td>\n",
              "      <td>99.85</td>\n",
              "      <td>760.0</td>\n",
              "      <td>0.07885</td>\n",
              "      <td>0.0524</td>\n",
              "      <td>0.03778</td>\n",
              "      <td>0.02876</td>\n",
              "      <td>0.1580</td>\n",
              "      <td>...</td>\n",
              "      <td>117.2</td>\n",
              "      <td>1027.0</td>\n",
              "      <td>0.1097</td>\n",
              "      <td>0.09745</td>\n",
              "      <td>0.1263</td>\n",
              "      <td>0.08222</td>\n",
              "      <td>0.2805</td>\n",
              "      <td>0.06378</td>\n",
              "      <td>2.0</td>\n",
              "      <td>2</td>\n",
              "    </tr>\n",
              "    <tr>\n",
              "      <th>31</th>\n",
              "      <td>76</td>\n",
              "      <td>13.48</td>\n",
              "      <td>20.82</td>\n",
              "      <td>88.40</td>\n",
              "      <td>559.2</td>\n",
              "      <td>0.10160</td>\n",
              "      <td>0.1255</td>\n",
              "      <td>0.10630</td>\n",
              "      <td>0.05439</td>\n",
              "      <td>0.1720</td>\n",
              "      <td>...</td>\n",
              "      <td>107.3</td>\n",
              "      <td>740.4</td>\n",
              "      <td>0.1610</td>\n",
              "      <td>0.42250</td>\n",
              "      <td>0.5030</td>\n",
              "      <td>0.22580</td>\n",
              "      <td>0.2807</td>\n",
              "      <td>0.10710</td>\n",
              "      <td>2.5</td>\n",
              "      <td>0</td>\n",
              "    </tr>\n",
              "    <tr>\n",
              "      <th>47</th>\n",
              "      <td>97</td>\n",
              "      <td>19.55</td>\n",
              "      <td>15.49</td>\n",
              "      <td>128.00</td>\n",
              "      <td>1156.0</td>\n",
              "      <td>0.10790</td>\n",
              "      <td>0.1747</td>\n",
              "      <td>0.23520</td>\n",
              "      <td>0.11960</td>\n",
              "      <td>0.2616</td>\n",
              "      <td>...</td>\n",
              "      <td>153.4</td>\n",
              "      <td>1633.0</td>\n",
              "      <td>0.1534</td>\n",
              "      <td>0.33910</td>\n",
              "      <td>0.5819</td>\n",
              "      <td>0.22000</td>\n",
              "      <td>0.4714</td>\n",
              "      <td>0.09721</td>\n",
              "      <td>3.0</td>\n",
              "      <td>0</td>\n",
              "    </tr>\n",
              "    <tr>\n",
              "      <th>42</th>\n",
              "      <td>34</td>\n",
              "      <td>14.25</td>\n",
              "      <td>22.15</td>\n",
              "      <td>96.42</td>\n",
              "      <td>645.7</td>\n",
              "      <td>0.10490</td>\n",
              "      <td>0.2008</td>\n",
              "      <td>0.21350</td>\n",
              "      <td>0.08653</td>\n",
              "      <td>0.1949</td>\n",
              "      <td>...</td>\n",
              "      <td>119.1</td>\n",
              "      <td>959.5</td>\n",
              "      <td>0.1640</td>\n",
              "      <td>0.62470</td>\n",
              "      <td>0.6922</td>\n",
              "      <td>0.17850</td>\n",
              "      <td>0.2844</td>\n",
              "      <td>0.11320</td>\n",
              "      <td>1.5</td>\n",
              "      <td>0</td>\n",
              "    </tr>\n",
              "    <tr>\n",
              "      <th>189</th>\n",
              "      <td>6</td>\n",
              "      <td>19.80</td>\n",
              "      <td>20.46</td>\n",
              "      <td>130.20</td>\n",
              "      <td>1235.0</td>\n",
              "      <td>0.09652</td>\n",
              "      <td>0.1077</td>\n",
              "      <td>0.15990</td>\n",
              "      <td>0.08705</td>\n",
              "      <td>0.1620</td>\n",
              "      <td>...</td>\n",
              "      <td>155.1</td>\n",
              "      <td>1623.0</td>\n",
              "      <td>0.1373</td>\n",
              "      <td>0.23680</td>\n",
              "      <td>0.3931</td>\n",
              "      <td>0.18400</td>\n",
              "      <td>0.2382</td>\n",
              "      <td>0.06831</td>\n",
              "      <td>2.1</td>\n",
              "      <td>2</td>\n",
              "    </tr>\n",
              "  </tbody>\n",
              "</table>\n",
              "<p>138 rows × 33 columns</p>\n",
              "</div>\n",
              "      <button class=\"colab-df-convert\" onclick=\"convertToInteractive('df-ab5ba9aa-852c-42f7-b71f-3b72526fe631')\"\n",
              "              title=\"Convert this dataframe to an interactive table.\"\n",
              "              style=\"display:none;\">\n",
              "        \n",
              "  <svg xmlns=\"http://www.w3.org/2000/svg\" height=\"24px\"viewBox=\"0 0 24 24\"\n",
              "       width=\"24px\">\n",
              "    <path d=\"M0 0h24v24H0V0z\" fill=\"none\"/>\n",
              "    <path d=\"M18.56 5.44l.94 2.06.94-2.06 2.06-.94-2.06-.94-.94-2.06-.94 2.06-2.06.94zm-11 1L8.5 8.5l.94-2.06 2.06-.94-2.06-.94L8.5 2.5l-.94 2.06-2.06.94zm10 10l.94 2.06.94-2.06 2.06-.94-2.06-.94-.94-2.06-.94 2.06-2.06.94z\"/><path d=\"M17.41 7.96l-1.37-1.37c-.4-.4-.92-.59-1.43-.59-.52 0-1.04.2-1.43.59L10.3 9.45l-7.72 7.72c-.78.78-.78 2.05 0 2.83L4 21.41c.39.39.9.59 1.41.59.51 0 1.02-.2 1.41-.59l7.78-7.78 2.81-2.81c.8-.78.8-2.07 0-2.86zM5.41 20L4 18.59l7.72-7.72 1.47 1.35L5.41 20z\"/>\n",
              "  </svg>\n",
              "      </button>\n",
              "      \n",
              "  <style>\n",
              "    .colab-df-container {\n",
              "      display:flex;\n",
              "      flex-wrap:wrap;\n",
              "      gap: 12px;\n",
              "    }\n",
              "\n",
              "    .colab-df-convert {\n",
              "      background-color: #E8F0FE;\n",
              "      border: none;\n",
              "      border-radius: 50%;\n",
              "      cursor: pointer;\n",
              "      display: none;\n",
              "      fill: #1967D2;\n",
              "      height: 32px;\n",
              "      padding: 0 0 0 0;\n",
              "      width: 32px;\n",
              "    }\n",
              "\n",
              "    .colab-df-convert:hover {\n",
              "      background-color: #E2EBFA;\n",
              "      box-shadow: 0px 1px 2px rgba(60, 64, 67, 0.3), 0px 1px 3px 1px rgba(60, 64, 67, 0.15);\n",
              "      fill: #174EA6;\n",
              "    }\n",
              "\n",
              "    [theme=dark] .colab-df-convert {\n",
              "      background-color: #3B4455;\n",
              "      fill: #D2E3FC;\n",
              "    }\n",
              "\n",
              "    [theme=dark] .colab-df-convert:hover {\n",
              "      background-color: #434B5C;\n",
              "      box-shadow: 0px 1px 3px 1px rgba(0, 0, 0, 0.15);\n",
              "      filter: drop-shadow(0px 1px 2px rgba(0, 0, 0, 0.3));\n",
              "      fill: #FFFFFF;\n",
              "    }\n",
              "  </style>\n",
              "\n",
              "      <script>\n",
              "        const buttonEl =\n",
              "          document.querySelector('#df-ab5ba9aa-852c-42f7-b71f-3b72526fe631 button.colab-df-convert');\n",
              "        buttonEl.style.display =\n",
              "          google.colab.kernel.accessAllowed ? 'block' : 'none';\n",
              "\n",
              "        async function convertToInteractive(key) {\n",
              "          const element = document.querySelector('#df-ab5ba9aa-852c-42f7-b71f-3b72526fe631');\n",
              "          const dataTable =\n",
              "            await google.colab.kernel.invokeFunction('convertToInteractive',\n",
              "                                                     [key], {});\n",
              "          if (!dataTable) return;\n",
              "\n",
              "          const docLinkHtml = 'Like what you see? Visit the ' +\n",
              "            '<a target=\"_blank\" href=https://colab.research.google.com/notebooks/data_table.ipynb>data table notebook</a>'\n",
              "            + ' to learn more about interactive tables.';\n",
              "          element.innerHTML = '';\n",
              "          dataTable['output_type'] = 'display_data';\n",
              "          await google.colab.output.renderOutput(dataTable, element);\n",
              "          const docLink = document.createElement('div');\n",
              "          docLink.innerHTML = docLinkHtml;\n",
              "          element.appendChild(docLink);\n",
              "        }\n",
              "      </script>\n",
              "    </div>\n",
              "  </div>\n",
              "  "
            ]
          },
          "metadata": {},
          "execution_count": 65
        }
      ]
    },
    {
      "cell_type": "code",
      "execution_count": 66,
      "metadata": {
        "id": "0iYrlegSjbup"
      },
      "outputs": [],
      "source": [
        "sc = StandardScaler()\n",
        "X_train = sc.fit_transform(X_train)\n",
        "X_test = sc.transform(X_test)"
      ]
    },
    {
      "cell_type": "code",
      "source": [
        "model = [[\"LogisticRegression\",LogisticRegression()],[\"RandomForestClassifier\",RandomForestClassifier()],[\"DecisionTreeClassifier\",DecisionTreeClassifier()],[\"GaussianNB\",GaussianNB()],[\"KNeighborsClassifier\",KNeighborsClassifier()],[\"Support Vector Machine\",SVC()]]"
      ],
      "metadata": {
        "id": "AYqNkhaceCYd"
      },
      "execution_count": 67,
      "outputs": []
    },
    {
      "cell_type": "code",
      "source": [
        "X_train"
      ],
      "metadata": {
        "colab": {
          "base_uri": "https://localhost:8080/"
        },
        "id": "WjXmX2Mpm9mp",
        "outputId": "a12d281f-ee56-46a6-e5bd-8065a37c5b81"
      },
      "execution_count": 68,
      "outputs": [
        {
          "output_type": "execute_result",
          "data": {
            "text/plain": [
              "array([[ 0.4781177 , -0.16313008, -0.77845124, ...,  0.00486266,\n",
              "        -0.72598309,  0.35025403],\n",
              "       [-1.17507854,  2.19018375, -0.85910694, ..., -1.32771873,\n",
              "         0.08023204,  0.16144522],\n",
              "       [-0.90938629,  0.06598253,  1.34469136, ...,  0.01152081,\n",
              "        -0.72598309,  0.72787166],\n",
              "       ...,\n",
              "       [ 1.48184399,  0.65512925, -1.6300805 , ...,  0.31874692,\n",
              "         0.08023204, -0.59379004],\n",
              "       [-0.37800178, -1.07958052, -0.05017774, ...,  1.07920289,\n",
              "        -0.72598309, -0.59379004],\n",
              "       [-1.2045999 ,  0.73695518, -0.451084  , ..., -1.0556857 ,\n",
              "        -0.40349704, -0.21617241]])"
            ]
          },
          "metadata": {},
          "execution_count": 68
        }
      ]
    },
    {
      "cell_type": "code",
      "source": [
        "X_test"
      ],
      "metadata": {
        "colab": {
          "base_uri": "https://localhost:8080/"
        },
        "id": "7egsr_vSm_57",
        "outputId": "ce025654-aed5-419b-c1d2-e6152e281f65"
      },
      "execution_count": 69,
      "outputs": [
        {
          "output_type": "execute_result",
          "data": {
            "text/plain": [
              "array([[ 0.21242545,  1.01189032, -1.1888464 , ..., -0.94915528,\n",
              "         0.61770879, -0.59379004],\n",
              "       [ 0.74380995, -1.01411978, -0.50801743, ...,  0.51326005,\n",
              "        -0.72598309, -0.59379004],\n",
              "       [ 0.62572451, -0.39551573, -0.36805608, ...,  0.43954481,\n",
              "        -0.99472146, -0.40498123],\n",
              "       ...,\n",
              "       [ 0.24194681, -0.08457718, -0.22097804, ..., -0.71611999,\n",
              "        -0.72598309, -0.40498123],\n",
              "       [ 0.00577592,  0.41619753, -0.09287782, ..., -0.35039726,\n",
              "        -0.99472146, -0.59379004],\n",
              "       [ 1.51136535, -0.68354301, -2.484082  , ...,  0.49899258,\n",
              "        -0.56474006, -0.40498123]])"
            ]
          },
          "metadata": {},
          "execution_count": 69
        }
      ]
    },
    {
      "cell_type": "code",
      "execution_count": 70,
      "metadata": {
        "id": "PBfdNM4hjbup"
      },
      "outputs": [],
      "source": [
        "accuracy_score1 = []\n",
        "for i in model:\n",
        "    uchiha = i[1]\n",
        "    uchiha.fit(X_train,y_train)\n",
        "    predict = uchiha.predict(X_test)\n",
        "    accuracy_score1.append([i[0], accuracy_score(predict,y_test)])"
      ]
    },
    {
      "cell_type": "code",
      "execution_count": 71,
      "metadata": {
        "id": "-DgtnrMGjbuq"
      },
      "outputs": [],
      "source": [
        "main_score = pd.DataFrame(accuracy_score1)\n",
        "main_score.columns = [\"Model\",\"Score\"]"
      ]
    },
    {
      "cell_type": "code",
      "execution_count": 72,
      "metadata": {
        "colab": {
          "base_uri": "https://localhost:8080/",
          "height": 238
        },
        "id": "v4sgJJxkjbuq",
        "outputId": "84c1d0bd-4064-4a1e-eede-3b5f0dfc5d5c"
      },
      "outputs": [
        {
          "output_type": "execute_result",
          "data": {
            "text/plain": [
              "                    Model     Score\n",
              "0      LogisticRegression  0.800000\n",
              "1  RandomForestClassifier  0.816667\n",
              "2  DecisionTreeClassifier  0.700000\n",
              "3              GaussianNB  0.666667\n",
              "4    KNeighborsClassifier  0.800000\n",
              "5  Support Vector Machine  0.750000"
            ],
            "text/html": [
              "\n",
              "  <div id=\"df-7de9bd98-d895-45af-8f07-3df9ebc44ce9\">\n",
              "    <div class=\"colab-df-container\">\n",
              "      <div>\n",
              "<style scoped>\n",
              "    .dataframe tbody tr th:only-of-type {\n",
              "        vertical-align: middle;\n",
              "    }\n",
              "\n",
              "    .dataframe tbody tr th {\n",
              "        vertical-align: top;\n",
              "    }\n",
              "\n",
              "    .dataframe thead th {\n",
              "        text-align: right;\n",
              "    }\n",
              "</style>\n",
              "<table border=\"1\" class=\"dataframe\">\n",
              "  <thead>\n",
              "    <tr style=\"text-align: right;\">\n",
              "      <th></th>\n",
              "      <th>Model</th>\n",
              "      <th>Score</th>\n",
              "    </tr>\n",
              "  </thead>\n",
              "  <tbody>\n",
              "    <tr>\n",
              "      <th>0</th>\n",
              "      <td>LogisticRegression</td>\n",
              "      <td>0.800000</td>\n",
              "    </tr>\n",
              "    <tr>\n",
              "      <th>1</th>\n",
              "      <td>RandomForestClassifier</td>\n",
              "      <td>0.816667</td>\n",
              "    </tr>\n",
              "    <tr>\n",
              "      <th>2</th>\n",
              "      <td>DecisionTreeClassifier</td>\n",
              "      <td>0.700000</td>\n",
              "    </tr>\n",
              "    <tr>\n",
              "      <th>3</th>\n",
              "      <td>GaussianNB</td>\n",
              "      <td>0.666667</td>\n",
              "    </tr>\n",
              "    <tr>\n",
              "      <th>4</th>\n",
              "      <td>KNeighborsClassifier</td>\n",
              "      <td>0.800000</td>\n",
              "    </tr>\n",
              "    <tr>\n",
              "      <th>5</th>\n",
              "      <td>Support Vector Machine</td>\n",
              "      <td>0.750000</td>\n",
              "    </tr>\n",
              "  </tbody>\n",
              "</table>\n",
              "</div>\n",
              "      <button class=\"colab-df-convert\" onclick=\"convertToInteractive('df-7de9bd98-d895-45af-8f07-3df9ebc44ce9')\"\n",
              "              title=\"Convert this dataframe to an interactive table.\"\n",
              "              style=\"display:none;\">\n",
              "        \n",
              "  <svg xmlns=\"http://www.w3.org/2000/svg\" height=\"24px\"viewBox=\"0 0 24 24\"\n",
              "       width=\"24px\">\n",
              "    <path d=\"M0 0h24v24H0V0z\" fill=\"none\"/>\n",
              "    <path d=\"M18.56 5.44l.94 2.06.94-2.06 2.06-.94-2.06-.94-.94-2.06-.94 2.06-2.06.94zm-11 1L8.5 8.5l.94-2.06 2.06-.94-2.06-.94L8.5 2.5l-.94 2.06-2.06.94zm10 10l.94 2.06.94-2.06 2.06-.94-2.06-.94-.94-2.06-.94 2.06-2.06.94z\"/><path d=\"M17.41 7.96l-1.37-1.37c-.4-.4-.92-.59-1.43-.59-.52 0-1.04.2-1.43.59L10.3 9.45l-7.72 7.72c-.78.78-.78 2.05 0 2.83L4 21.41c.39.39.9.59 1.41.59.51 0 1.02-.2 1.41-.59l7.78-7.78 2.81-2.81c.8-.78.8-2.07 0-2.86zM5.41 20L4 18.59l7.72-7.72 1.47 1.35L5.41 20z\"/>\n",
              "  </svg>\n",
              "      </button>\n",
              "      \n",
              "  <style>\n",
              "    .colab-df-container {\n",
              "      display:flex;\n",
              "      flex-wrap:wrap;\n",
              "      gap: 12px;\n",
              "    }\n",
              "\n",
              "    .colab-df-convert {\n",
              "      background-color: #E8F0FE;\n",
              "      border: none;\n",
              "      border-radius: 50%;\n",
              "      cursor: pointer;\n",
              "      display: none;\n",
              "      fill: #1967D2;\n",
              "      height: 32px;\n",
              "      padding: 0 0 0 0;\n",
              "      width: 32px;\n",
              "    }\n",
              "\n",
              "    .colab-df-convert:hover {\n",
              "      background-color: #E2EBFA;\n",
              "      box-shadow: 0px 1px 2px rgba(60, 64, 67, 0.3), 0px 1px 3px 1px rgba(60, 64, 67, 0.15);\n",
              "      fill: #174EA6;\n",
              "    }\n",
              "\n",
              "    [theme=dark] .colab-df-convert {\n",
              "      background-color: #3B4455;\n",
              "      fill: #D2E3FC;\n",
              "    }\n",
              "\n",
              "    [theme=dark] .colab-df-convert:hover {\n",
              "      background-color: #434B5C;\n",
              "      box-shadow: 0px 1px 3px 1px rgba(0, 0, 0, 0.15);\n",
              "      filter: drop-shadow(0px 1px 2px rgba(0, 0, 0, 0.3));\n",
              "      fill: #FFFFFF;\n",
              "    }\n",
              "  </style>\n",
              "\n",
              "      <script>\n",
              "        const buttonEl =\n",
              "          document.querySelector('#df-7de9bd98-d895-45af-8f07-3df9ebc44ce9 button.colab-df-convert');\n",
              "        buttonEl.style.display =\n",
              "          google.colab.kernel.accessAllowed ? 'block' : 'none';\n",
              "\n",
              "        async function convertToInteractive(key) {\n",
              "          const element = document.querySelector('#df-7de9bd98-d895-45af-8f07-3df9ebc44ce9');\n",
              "          const dataTable =\n",
              "            await google.colab.kernel.invokeFunction('convertToInteractive',\n",
              "                                                     [key], {});\n",
              "          if (!dataTable) return;\n",
              "\n",
              "          const docLinkHtml = 'Like what you see? Visit the ' +\n",
              "            '<a target=\"_blank\" href=https://colab.research.google.com/notebooks/data_table.ipynb>data table notebook</a>'\n",
              "            + ' to learn more about interactive tables.';\n",
              "          element.innerHTML = '';\n",
              "          dataTable['output_type'] = 'display_data';\n",
              "          await google.colab.output.renderOutput(dataTable, element);\n",
              "          const docLink = document.createElement('div');\n",
              "          docLink.innerHTML = docLinkHtml;\n",
              "          element.appendChild(docLink);\n",
              "        }\n",
              "      </script>\n",
              "    </div>\n",
              "  </div>\n",
              "  "
            ]
          },
          "metadata": {},
          "execution_count": 72
        }
      ],
      "source": [
        "main_score"
      ]
    },
    {
      "cell_type": "code",
      "source": [
        ""
      ],
      "metadata": {
        "id": "3XVQf2vHoDZ2"
      },
      "execution_count": null,
      "outputs": []
    },
    {
      "cell_type": "code",
      "execution_count": null,
      "metadata": {
        "id": "0H1YoTVHjbuq"
      },
      "outputs": [],
      "source": [
        "xgboost\n",
        "catboost\n",
        "adaboost\n",
        "neuralnet (FNN)"
      ]
    },
    {
      "cell_type": "code",
      "execution_count": null,
      "metadata": {
        "id": "tAEGmVYYjbuq"
      },
      "outputs": [],
      "source": [
        ""
      ]
    }
  ],
  "metadata": {
    "kernelspec": {
      "display_name": "Python 3",
      "language": "python",
      "name": "python3"
    },
    "language_info": {
      "codemirror_mode": {
        "name": "ipython",
        "version": 3
      },
      "file_extension": ".py",
      "mimetype": "text/x-python",
      "name": "python",
      "nbconvert_exporter": "python",
      "pygments_lexer": "ipython3",
      "version": "3.6.6"
    },
    "colab": {
      "name": "breast-cancer-wisconsin-prognostic-97-8-detail.ipynb",
      "provenance": [],
      "collapsed_sections": []
    }
  },
  "nbformat": 4,
  "nbformat_minor": 0
}